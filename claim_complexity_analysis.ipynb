{
 "cells": [
  {
   "cell_type": "code",
   "execution_count": 14,
   "metadata": {
    "colab": {
     "base_uri": "https://localhost:8080/"
    },
    "executionInfo": {
     "elapsed": 2817,
     "status": "ok",
     "timestamp": 1744437376024,
     "user": {
      "displayName": "Henry Zelenak",
      "userId": "01809909909045225068"
     },
     "user_tz": 240
    },
    "id": "ZpSfUo3WknWb",
    "outputId": "35337767-3111-4f1e-d7ed-9b6ed04f8b7b"
   },
   "outputs": [
    {
     "name": "stdout",
     "output_type": "stream",
     "text": [
      "Requirement already satisfied: statsmodels in /usr/local/lib/python3.11/dist-packages (0.14.4)\n",
      "Requirement already satisfied: numpy<3,>=1.22.3 in /usr/local/lib/python3.11/dist-packages (from statsmodels) (2.0.2)\n",
      "Requirement already satisfied: scipy!=1.9.2,>=1.8 in /usr/local/lib/python3.11/dist-packages (from statsmodels) (1.14.1)\n",
      "Requirement already satisfied: pandas!=2.1.0,>=1.4 in /usr/local/lib/python3.11/dist-packages (from statsmodels) (2.2.2)\n",
      "Requirement already satisfied: patsy>=0.5.6 in /usr/local/lib/python3.11/dist-packages (from statsmodels) (1.0.1)\n",
      "Requirement already satisfied: packaging>=21.3 in /usr/local/lib/python3.11/dist-packages (from statsmodels) (24.2)\n",
      "Requirement already satisfied: python-dateutil>=2.8.2 in /usr/local/lib/python3.11/dist-packages (from pandas!=2.1.0,>=1.4->statsmodels) (2.8.2)\n",
      "Requirement already satisfied: pytz>=2020.1 in /usr/local/lib/python3.11/dist-packages (from pandas!=2.1.0,>=1.4->statsmodels) (2025.2)\n",
      "Requirement already satisfied: tzdata>=2022.7 in /usr/local/lib/python3.11/dist-packages (from pandas!=2.1.0,>=1.4->statsmodels) (2025.2)\n",
      "Requirement already satisfied: six>=1.5 in /usr/local/lib/python3.11/dist-packages (from python-dateutil>=2.8.2->pandas!=2.1.0,>=1.4->statsmodels) (1.17.0)\n"
     ]
    }
   ],
   "source": [
    "!pip install statsmodels --upgrade"
   ]
  },
  {
   "cell_type": "code",
   "execution_count": 15,
   "metadata": {
    "executionInfo": {
     "elapsed": 1,
     "status": "ok",
     "timestamp": 1744437376036,
     "user": {
      "displayName": "Henry Zelenak",
      "userId": "01809909909045225068"
     },
     "user_tz": 240
    },
    "id": "ImcambQPfibo"
   },
   "outputs": [],
   "source": [
    "import pandas as pd\n",
    "import numpy as np\n",
    "import json\n",
    "import os\n",
    "import statsmodels\n",
    "from scipy.stats import shapiro"
   ]
  },
  {
   "cell_type": "code",
   "execution_count": 16,
   "metadata": {
    "colab": {
     "base_uri": "https://localhost:8080/"
    },
    "executionInfo": {
     "elapsed": 1146,
     "status": "ok",
     "timestamp": 1744437377183,
     "user": {
      "displayName": "Henry Zelenak",
      "userId": "01809909909045225068"
     },
     "user_tz": 240
    },
    "id": "rttKXt7-d94m",
    "outputId": "202db1d4-598a-4380-c81c-2033f82e84a6"
   },
   "outputs": [
    {
     "name": "stdout",
     "output_type": "stream",
     "text": [
      "Drive already mounted at /content/drive; to attempt to forcibly remount, call drive.mount(\"/content/drive\", force_remount=True).\n"
     ]
    }
   ],
   "source": [
    "# Mount google drive\n",
    "from google.colab import drive\n",
    "import gc\n",
    "\n",
    "drive.mount('/content/drive')"
   ]
  },
  {
   "cell_type": "code",
   "execution_count": 17,
   "metadata": {
    "colab": {
     "base_uri": "https://localhost:8080/"
    },
    "executionInfo": {
     "elapsed": 9,
     "status": "ok",
     "timestamp": 1744437377192,
     "user": {
      "displayName": "Henry Zelenak",
      "userId": "01809909909045225068"
     },
     "user_tz": 240
    },
    "id": "LAZSGZ7RfR4y",
    "outputId": "a6b2fc28-462f-4320-eb3b-9c4ee75c5de4"
   },
   "outputs": [
    {
     "name": "stdout",
     "output_type": "stream",
     "text": [
      "[Errno 2] No such file or directory: './drive/My Drive/SUNY_Poly_DSA598/datasets/FEVER/'\n",
      "/content/drive/My Drive/SUNY_Poly_DSA598/datasets/FEVER\n"
     ]
    }
   ],
   "source": [
    "%cd ./drive/My Drive/SUNY_Poly_DSA598/datasets/FEVER/"
   ]
  },
  {
   "cell_type": "code",
   "execution_count": 18,
   "metadata": {
    "colab": {
     "base_uri": "https://localhost:8080/"
    },
    "executionInfo": {
     "elapsed": 23,
     "status": "ok",
     "timestamp": 1744437377215,
     "user": {
      "displayName": "Henry Zelenak",
      "userId": "01809909909045225068"
     },
     "user_tz": 240
    },
    "id": "C2ZGeKMIffaf",
    "outputId": "31b4d032-23a0-475e-d0ff-5fafee92e5e5"
   },
   "outputs": [
    {
     "name": "stdout",
     "output_type": "stream",
     "text": [
      "AVeriTeC\t\t\t fever-scorer\t    paper_test.jsonl\n",
      ".DS_Store\t\t\t fever-train.jsonl  tabular_sets\n",
      "fever2-adversarial.jsonl\t GPT_sets\t    wiki-pages\n",
      "feverous_train_challenges.jsonl  paper_dev.jsonl\n"
     ]
    }
   ],
   "source": [
    "!ls -a"
   ]
  },
  {
   "cell_type": "code",
   "execution_count": 19,
   "metadata": {
    "executionInfo": {
     "elapsed": 27,
     "status": "ok",
     "timestamp": 1744437377241,
     "user": {
      "displayName": "Henry Zelenak",
      "userId": "01809909909045225068"
     },
     "user_tz": 240
    },
    "id": "JcYWqa-ofzRP"
   },
   "outputs": [],
   "source": [
    "def load_jsonl(file_path, encoding='utf-8'):\n",
    "    \"\"\"Loads a JSON Lines file into a list of Python objects.\"\"\"\n",
    "    data = []\n",
    "    with open(file_path, 'r', encoding=encoding) as f:  # Specify encoding for safety\n",
    "        for line in f:\n",
    "            data.append(json.loads(line))  # Parse each line individually\n",
    "    return data"
   ]
  },
  {
   "cell_type": "code",
   "execution_count": 20,
   "metadata": {
    "executionInfo": {
     "elapsed": 757,
     "status": "ok",
     "timestamp": 1744437377998,
     "user": {
      "displayName": "Henry Zelenak",
      "userId": "01809909909045225068"
     },
     "user_tz": 240
    },
    "id": "mjji6n9Xfdm0"
   },
   "outputs": [],
   "source": [
    "# Data paths (replace with your actual paths if different)\n",
    "fever_path = \"./datasets/FEVER/\"\n",
    "train_clf_path = f\"tabular_sets/tabular_clf_paper_dev_train/v1_segmented_sentIDs_n3461_04-04_002.csv\"\n",
    "valid_clf_path = f\"tabular_sets/tabular_clf_paper_dev_valid/v1_segmented_sentIDs_n1482_04-04_002.csv\"\n",
    "train_sentEx_path = f\"tabular_sets/tabular_sentEx_paper_dev_train/v1_segmented_sentIDs_n3461_04-04_002.csv\"\n",
    "valid_sentEx_path = f\"tabular_sets/tabular_sentEx_paper_dev_valid/v1_segmented_sentIDs_n1482_04-04_002.csv\"\n",
    "test_path = f\"paper_test.jsonl\"\n",
    "train_path = f\"paper_dev.jsonl\"\n",
    "\n",
    "# Load datasets\n",
    "train_clf = pd.read_csv(train_clf_path)\n",
    "valid_clf = pd.read_csv(valid_clf_path)\n",
    "train_sentEx = pd.read_csv(train_sentEx_path)\n",
    "valid_sentEx = pd.read_csv(valid_sentEx_path)\n",
    "test_jsonl = load_jsonl(test_path)\n",
    "train_jsonl = load_jsonl(train_path)"
   ]
  },
  {
   "cell_type": "code",
   "execution_count": 21,
   "metadata": {
    "colab": {
     "base_uri": "https://localhost:8080/"
    },
    "executionInfo": {
     "elapsed": 5,
     "status": "ok",
     "timestamp": 1744437378002,
     "user": {
      "displayName": "Henry Zelenak",
      "userId": "01809909909045225068"
     },
     "user_tz": 240
    },
    "id": "zVRpgBlhfsgx",
    "outputId": "f19170c3-f6b5-4b52-afd2-b6aea9c6a6b5"
   },
   "outputs": [
    {
     "name": "stdout",
     "output_type": "stream",
     "text": [
      "SentEx train set label distribution:\n",
      "label\n",
      "SUPPORTS           1156\n",
      "REFUTES            1156\n",
      "NOT ENOUGH INFO    1149\n",
      "Name: count, dtype: int64\n",
      "SentEx valid set label distribution:\n",
      "label\n",
      "SUPPORTS           495\n",
      "REFUTES            495\n",
      "NOT ENOUGH INFO    488\n",
      "Name: count, dtype: int64\n",
      "CLF train set label distribution:\n",
      "label\n",
      "SUPPORTS           1156\n",
      "REFUTES            1156\n",
      "NOT ENOUGH INFO    1149\n",
      "Name: count, dtype: int64\n",
      "CLF valid set label distribution:\n",
      "label\n",
      "SUPPORTS           496\n",
      "REFUTES            496\n",
      "NOT ENOUGH INFO    486\n",
      "Name: count, dtype: int64\n",
      "SentEx train set label distribution after balancing:\n",
      "label\n",
      "NOT ENOUGH INFO    1149\n",
      "REFUTES            1149\n",
      "SUPPORTS           1149\n",
      "Name: count, dtype: int64\n",
      "SentEx valid set label distribution after balancing:\n",
      "label\n",
      "NOT ENOUGH INFO    488\n",
      "REFUTES            488\n",
      "SUPPORTS           488\n",
      "Name: count, dtype: int64\n",
      "CLF train set label distribution after balancing:\n",
      "label\n",
      "NOT ENOUGH INFO    1149\n",
      "REFUTES            1149\n",
      "SUPPORTS           1149\n",
      "Name: count, dtype: int64\n",
      "CLF valid set label distribution after balancing:\n",
      "label\n",
      "NOT ENOUGH INFO    486\n",
      "REFUTES            486\n",
      "SUPPORTS           486\n",
      "Name: count, dtype: int64\n"
     ]
    },
    {
     "name": "stderr",
     "output_type": "stream",
     "text": [
      "<ipython-input-21-35adf38b2920>:14: DeprecationWarning: DataFrameGroupBy.apply operated on the grouping columns. This behavior is deprecated, and in a future version of pandas the grouping columns will be excluded from the operation. Either pass `include_groups=False` to exclude the groupings or explicitly select the grouping columns after groupby to silence this warning.\n",
      "  train_sentEx = train_sentEx.groupby('label').apply(lambda x: x.sample(min_count)).reset_index(drop=True)\n",
      "<ipython-input-21-35adf38b2920>:16: DeprecationWarning: DataFrameGroupBy.apply operated on the grouping columns. This behavior is deprecated, and in a future version of pandas the grouping columns will be excluded from the operation. Either pass `include_groups=False` to exclude the groupings or explicitly select the grouping columns after groupby to silence this warning.\n",
      "  valid_sentEx = valid_sentEx.groupby('label').apply(lambda x: x.sample(min_count)).reset_index(drop=True)\n",
      "<ipython-input-21-35adf38b2920>:18: DeprecationWarning: DataFrameGroupBy.apply operated on the grouping columns. This behavior is deprecated, and in a future version of pandas the grouping columns will be excluded from the operation. Either pass `include_groups=False` to exclude the groupings or explicitly select the grouping columns after groupby to silence this warning.\n",
      "  train_clf = train_clf.groupby('label').apply(lambda x: x.sample(min_count)).reset_index(drop=True)\n",
      "<ipython-input-21-35adf38b2920>:20: DeprecationWarning: DataFrameGroupBy.apply operated on the grouping columns. This behavior is deprecated, and in a future version of pandas the grouping columns will be excluded from the operation. Either pass `include_groups=False` to exclude the groupings or explicitly select the grouping columns after groupby to silence this warning.\n",
      "  valid_clf = valid_clf.groupby('label').apply(lambda x: x.sample(min_count)).reset_index(drop=True)\n"
     ]
    }
   ],
   "source": [
    "# Show the distribution of labels\n",
    "print(f\"SentEx train set label distribution:\")\n",
    "print(train_sentEx['label'].value_counts())\n",
    "print(f\"SentEx valid set label distribution:\")\n",
    "print(valid_sentEx['label'].value_counts())\n",
    "print(f\"CLF train set label distribution:\")\n",
    "print(train_clf['label'].value_counts())\n",
    "print(f\"CLF valid set label distribution:\")\n",
    "print(valid_clf['label'].value_counts())\n",
    "\n",
    "\n",
    "# Balance the labels by reducing each to the minimum count\n",
    "min_count = min(train_sentEx['label'].value_counts())\n",
    "train_sentEx = train_sentEx.groupby('label').apply(lambda x: x.sample(min_count)).reset_index(drop=True)\n",
    "min_count = min(valid_sentEx['label'].value_counts())\n",
    "valid_sentEx = valid_sentEx.groupby('label').apply(lambda x: x.sample(min_count)).reset_index(drop=True)\n",
    "min_count = min(train_clf['label'].value_counts())\n",
    "train_clf = train_clf.groupby('label').apply(lambda x: x.sample(min_count)).reset_index(drop=True)\n",
    "min_count = min(valid_clf['label'].value_counts())\n",
    "valid_clf = valid_clf.groupby('label').apply(lambda x: x.sample(min_count)).reset_index(drop=True)\n",
    "\n",
    "# Show the distribution of labels after balancing\n",
    "print(f\"SentEx train set label distribution after balancing:\")\n",
    "print(train_sentEx['label'].value_counts())\n",
    "print(f\"SentEx valid set label distribution after balancing:\")\n",
    "print(valid_sentEx['label'].value_counts())\n",
    "print(f\"CLF train set label distribution after balancing:\")\n",
    "print(train_clf['label'].value_counts())\n",
    "print(f\"CLF valid set label distribution after balancing:\")\n",
    "print(valid_clf['label'].value_counts())"
   ]
  },
  {
   "cell_type": "code",
   "execution_count": 22,
   "metadata": {
    "colab": {
     "base_uri": "https://localhost:8080/"
    },
    "executionInfo": {
     "elapsed": 6,
     "status": "ok",
     "timestamp": 1744437378008,
     "user": {
      "displayName": "Henry Zelenak",
      "userId": "01809909909045225068"
     },
     "user_tz": 240
    },
    "id": "WHl1X7A3kO_B",
    "outputId": "ba021848-0010-48a9-c239-5965dd47a251"
   },
   "outputs": [
    {
     "name": "stdout",
     "output_type": "stream",
     "text": [
      "<class 'pandas.core.frame.DataFrame'>\n",
      "RangeIndex: 3447 entries, 0 to 3446\n",
      "Data columns (total 6 columns):\n",
      " #   Column                Non-Null Count  Dtype  \n",
      "---  ------                --------------  -----  \n",
      " 0   id                    3447 non-null   int64  \n",
      " 1   claim                 3447 non-null   object \n",
      " 2   evidence_sentences    3447 non-null   object \n",
      " 3   full_text             3447 non-null   object \n",
      " 4   label                 3447 non-null   object \n",
      " 5   syntactic_complexity  3447 non-null   float64\n",
      "dtypes: float64(1), int64(1), object(4)\n",
      "memory usage: 161.7+ KB\n",
      "None\n",
      "<class 'pandas.core.frame.DataFrame'>\n",
      "RangeIndex: 1464 entries, 0 to 1463\n",
      "Data columns (total 6 columns):\n",
      " #   Column                Non-Null Count  Dtype  \n",
      "---  ------                --------------  -----  \n",
      " 0   id                    1464 non-null   int64  \n",
      " 1   claim                 1464 non-null   object \n",
      " 2   evidence_sentences    1464 non-null   object \n",
      " 3   full_text             1464 non-null   object \n",
      " 4   label                 1464 non-null   object \n",
      " 5   syntactic_complexity  1464 non-null   float64\n",
      "dtypes: float64(1), int64(1), object(4)\n",
      "memory usage: 68.8+ KB\n",
      "None\n",
      "<class 'pandas.core.frame.DataFrame'>\n",
      "RangeIndex: 3447 entries, 0 to 3446\n",
      "Data columns (total 5 columns):\n",
      " #   Column                Non-Null Count  Dtype  \n",
      "---  ------                --------------  -----  \n",
      " 0   id                    3447 non-null   int64  \n",
      " 1   claim                 3447 non-null   object \n",
      " 2   evidence_sentences    3447 non-null   object \n",
      " 3   label                 3447 non-null   object \n",
      " 4   syntactic_complexity  3447 non-null   float64\n",
      "dtypes: float64(1), int64(1), object(3)\n",
      "memory usage: 134.8+ KB\n",
      "None\n",
      "<class 'pandas.core.frame.DataFrame'>\n",
      "RangeIndex: 1458 entries, 0 to 1457\n",
      "Data columns (total 5 columns):\n",
      " #   Column                Non-Null Count  Dtype  \n",
      "---  ------                --------------  -----  \n",
      " 0   id                    1458 non-null   int64  \n",
      " 1   claim                 1458 non-null   object \n",
      " 2   evidence_sentences    1458 non-null   object \n",
      " 3   label                 1458 non-null   object \n",
      " 4   syntactic_complexity  1458 non-null   float64\n",
      "dtypes: float64(1), int64(1), object(3)\n",
      "memory usage: 57.1+ KB\n",
      "None\n"
     ]
    }
   ],
   "source": [
    "print(train_sentEx.info())\n",
    "print(valid_sentEx.info())\n",
    "print(train_clf.info())\n",
    "print(valid_clf.info())\n"
   ]
  },
  {
   "cell_type": "code",
   "execution_count": 23,
   "metadata": {
    "colab": {
     "base_uri": "https://localhost:8080/",
     "height": 1000
    },
    "executionInfo": {
     "elapsed": 524,
     "status": "ok",
     "timestamp": 1744437378543,
     "user": {
      "displayName": "Henry Zelenak",
      "userId": "01809909909045225068"
     },
     "user_tz": 240
    },
    "id": "mWmRHsQtngU6",
    "outputId": "2e483aa8-f3a4-4eb3-d07f-13b730c2f734"
   },
   "outputs": [
    {
     "data": {
      "image/png": "[encoded data removed]",
      "text/plain": [
       "<Figure size 1000x600 with 1 Axes>"
      ]
     },
     "metadata": {},
     "output_type": "display_data"
    },
    {
     "data": {
      "image/png": "[encoded data removed]",
      "text/plain": [
       "<Figure size 1000x600 with 1 Axes>"
      ]
     },
     "metadata": {},
     "output_type": "display_data"
    },
    {
     "name": "stdout",
     "output_type": "stream",
     "text": [
      "Shapiro Test Results for SentEx Train Set:\n",
      "Shapiro stat = 0.9267116183610508, p-value = 4.070077098602189e-38\n",
      "Sample does not look Gaussian (reject H0)\n",
      "--------------------------------------------\n",
      "\n",
      "Shapiro Test Results for SentEx Validation Set:\n",
      "Shapiro stat = 0.9097218247902594, p-value = 1.2885706089527766e-28\n",
      "Sample does not look Gaussian (reject H0)\n",
      "--------------------------------------------\n",
      "\n",
      "Shapiro Test Results for CLF Train Set:\n",
      "Shapiro stat = 0.932450942976018, p-value = 6.1277238770993105e-37\n",
      "Sample does not look Gaussian (reject H0)\n",
      "--------------------------------------------\n",
      "\n",
      "Shapiro Test Results for CLF Validation Set:\n",
      "Shapiro stat = 0.9219004584421788, p-value = 7.826466358584343e-27\n",
      "Sample does not look Gaussian (reject H0)\n",
      "--------------------------------------------\n",
      "\n",
      "Levene Test Results for SentEx Train Set:\n",
      "Levene stat = 0.3664515547208416, p-value = 0.6932167426416789\n",
      "Homogeneity of variance (fail to reject H0)\n",
      "--------------------------------------------\n",
      "\n",
      "Levene Test Results for SentEx Validation Set:\n",
      "Levene stat = 1.7716805081687328, p-value = 0.17041211859562072\n",
      "Homogeneity of variance (fail to reject H0)\n",
      "--------------------------------------------\n",
      "\n",
      "Levene Test Results for CLF Train Set:\n",
      "Levene stat = 1.0697967521479175, p-value = 0.34319221926001253\n",
      "Homogeneity of variance (fail to reject H0)\n",
      "--------------------------------------------\n",
      "\n",
      "Levene Test Results for CLF Validation Set:\n",
      "Levene stat = 1.7029976103314264, p-value = 0.1824995721473975\n",
      "Homogeneity of variance (fail to reject H0)\n",
      "--------------------------------------------\n",
      "\n"
     ]
    }
   ],
   "source": [
    "# plot the syntactic_complexity by label\n",
    "import matplotlib.pyplot as plt\n",
    "import seaborn as sns\n",
    "\n",
    "def plot_syntactic_complexity(data, title):\n",
    "    plt.figure(figsize=(10, 6))\n",
    "    sns.boxplot(x='label', y='syntactic_complexity', data=data)\n",
    "    plt.title(title)\n",
    "    plt.xlabel('Label')\n",
    "    plt.ylabel('Syntactic Complexity')\n",
    "    plt.show()\n",
    "\n",
    "plot_syntactic_complexity(train_sentEx, 'Syntactic Complexity by Label (SentEx Train Set)')\n",
    "plot_syntactic_complexity(valid_sentEx, 'Syntactic Complexity by Label (SentEx Validation Set)')\n",
    "\n",
    "# Check for normality using Shapiro-Wilk test\n",
    "def check_normality(data, column, title):\n",
    "    stat, p = shapiro(data[column])\n",
    "    print('Shapiro Test Results for ' + title + ':')\n",
    "    print(f'Shapiro stat = {stat}, p-value = {p}')\n",
    "    alpha = 0.05\n",
    "    if p > alpha:\n",
    "        print('Sample looks Gaussian (fail to reject H0)')\n",
    "    else:\n",
    "        print('Sample does not look Gaussian (reject H0)')\n",
    "    print(\"--------------------------------------------\\n\")\n",
    "check_normality(train_sentEx, 'syntactic_complexity', 'SentEx Train Set')\n",
    "check_normality(valid_sentEx, 'syntactic_complexity', 'SentEx Validation Set')\n",
    "check_normality(train_clf, 'syntactic_complexity', 'CLF Train Set')\n",
    "check_normality(valid_clf, 'syntactic_complexity', 'CLF Validation Set')\n",
    "\n",
    "# Check for homogeneity of variance using Levene's test\n",
    "from scipy.stats import levene\n",
    "def check_homogeneity(data, column, title):\n",
    "    groups = data.groupby('label')[column].apply(list)\n",
    "    stat, p = levene(*groups)\n",
    "    print('Levene Test Results for ' + title + ':')\n",
    "    print(f'Levene stat = {stat}, p-value = {p}')\n",
    "    alpha = 0.05\n",
    "    if p > alpha:\n",
    "        print('Homogeneity of variance (fail to reject H0)')\n",
    "    else:\n",
    "        print('Not homogenous (reject H0)')\n",
    "    print(\"--------------------------------------------\\n\")\n",
    "check_homogeneity(train_sentEx, 'syntactic_complexity', 'SentEx Train Set')\n",
    "check_homogeneity(valid_sentEx, 'syntactic_complexity', 'SentEx Validation Set')\n",
    "check_homogeneity(train_clf, 'syntactic_complexity', 'CLF Train Set')\n",
    "check_homogeneity(valid_clf, 'syntactic_complexity', 'CLF Validation Set')\n"
   ]
  },
  {
   "cell_type": "code",
   "execution_count": 24,
   "metadata": {
    "colab": {
     "base_uri": "https://localhost:8080/"
    },
    "executionInfo": {
     "elapsed": 29,
     "status": "ok",
     "timestamp": 1744437378573,
     "user": {
      "displayName": "Henry Zelenak",
      "userId": "01809909909045225068"
     },
     "user_tz": 240
    },
    "id": "4wMYy0ankTxY",
    "outputId": "18bd2651-2582-4fb9-c480-a8b5ff594f3b"
   },
   "outputs": [
    {
     "name": "stdout",
     "output_type": "stream",
     "text": [
      "                            OLS Regression Results                            \n",
      "==============================================================================\n",
      "Dep. Variable:                  label   R-squared:                       0.001\n",
      "Model:                            OLS   Adj. R-squared:                  0.001\n",
      "Method:                 Least Squares   F-statistic:                     4.201\n",
      "Date:                Sat, 12 Apr 2025   Prob (F-statistic):             0.0405\n",
      "Time:                        05:56:18   Log-Likelihood:                -4190.2\n",
      "No. Observations:                3447   AIC:                             8384.\n",
      "Df Residuals:                    3445   BIC:                             8397.\n",
      "Df Model:                           1                                         \n",
      "Covariance Type:            nonrobust                                         \n",
      "========================================================================================\n",
      "                           coef    std err          t      P>|t|      [0.025      0.975]\n",
      "----------------------------------------------------------------------------------------\n",
      "Intercept                0.9342      0.035     26.717      0.000       0.866       1.003\n",
      "syntactic_complexity     0.0708      0.035      2.050      0.040       0.003       0.139\n",
      "==============================================================================\n",
      "Omnibus:                    21977.812   Durbin-Watson:                   0.005\n",
      "Prob(Omnibus):                  0.000   Jarque-Bera (JB):              321.690\n",
      "Skew:                           0.000   Prob(JB):                     1.40e-70\n",
      "Kurtosis:                       1.503   Cond. No.                         4.82\n",
      "==============================================================================\n",
      "\n",
      "Notes:\n",
      "[1] Standard Errors assume that the covariance matrix of the errors is correctly specified.\n",
      "--------------------------------------------\n",
      "\n",
      "Kruskal-Wallis Test Results for SentEx Train Set:\n",
      "Kruskal stat = 2.7099863326684304, p-value = 0.25794905718344896\n",
      "Median ranks are equal (fail to reject H0)\n",
      "--------------------------------------------\n",
      "\n",
      "Kruskal-Wallis Test Results for SentEx Validation Set:\n",
      "Kruskal stat = 8.057326519029601, p-value = 0.01779810550743811\n",
      "Median ranks are not equal (reject H0)\n",
      "--------------------------------------------\n",
      "\n",
      "Kruskal-Wallis Test Results for CLF Train Set:\n",
      "Kruskal stat = 2.2252440951707353, p-value = 0.3286959736884918\n",
      "Median ranks are equal (fail to reject H0)\n",
      "--------------------------------------------\n",
      "\n",
      "Kruskal-Wallis Test Results for CLF Validation Set:\n",
      "Kruskal stat = 2.548030952638113, p-value = 0.27970621009564955\n",
      "Median ranks are equal (fail to reject H0)\n",
      "--------------------------------------------\n",
      "\n"
     ]
    }
   ],
   "source": [
    "import statsmodels.formula.api as smf # import the formula API from statsmodels\n",
    "\n",
    "# Ordinal encode the label column\n",
    "train_sentEx['label'] = train_sentEx['label'].map({'SUPPORTS': 1, 'REFUTES': 0, 'NOT ENOUGH INFO': 2})\n",
    "valid_sentEx['label'] = valid_sentEx['label'].map({'SUPPORTS': 1, 'REFUTES': 0, 'NOT ENOUGH INFO': 2})\n",
    "train_clf['label'] = train_clf['label'].map({'SUPPORTS': 1, 'REFUTES': 0, 'NOT ENOUGH INFO': 2})\n",
    "valid_clf['label'] = valid_clf['label'].map({'SUPPORTS': 1, 'REFUTES': 0, 'NOT ENOUGH INFO': 2})\n",
    "\n",
    "\n",
    "# Perform an ANOVA on label and syntactic_complexity using statsmodels\n",
    "model = smf.ols('label ~ syntactic_complexity', data=train_sentEx).fit() #refer to formula API using the alias smf\n",
    "print(model.summary())\n",
    "print(\"--------------------------------------------\\n\")\n",
    "\n",
    "# Perform a Kruskal-Wallis test\n",
    "from scipy.stats import kruskal\n",
    "\n",
    "def kruskal_test(data, column, title):\n",
    "    groups = data.groupby('label')[column].apply(list)\n",
    "    stat, p = kruskal(*groups)\n",
    "    print('Kruskal-Wallis Test Results for ' + title + ':')\n",
    "    print(f'Kruskal stat = {stat}, p-value = {p}')\n",
    "    alpha = 0.05\n",
    "    if p > alpha:\n",
    "        print('Median ranks are equal (fail to reject H0)')\n",
    "    else:\n",
    "        print('Median ranks are not equal (reject H0)')\n",
    "    print(\"--------------------------------------------\\n\")\n",
    "kruskal_test(train_sentEx, 'syntactic_complexity', 'SentEx Train Set')\n",
    "kruskal_test(valid_sentEx, 'syntactic_complexity', 'SentEx Validation Set')\n",
    "kruskal_test(train_clf, 'syntactic_complexity', 'CLF Train Set')\n",
    "kruskal_test(valid_clf, 'syntactic_complexity', 'CLF Validation Set')\n"
   ]
  },
  {
   "cell_type": "code",
   "execution_count": 25,
   "metadata": {
    "colab": {
     "base_uri": "https://localhost:8080/",
     "height": 472
    },
    "executionInfo": {
     "elapsed": 279,
     "status": "ok",
     "timestamp": 1744437378856,
     "user": {
      "displayName": "Henry Zelenak",
      "userId": "01809909909045225068"
     },
     "user_tz": 240
    },
    "id": "xzFblyGukixy",
    "outputId": "ed0f128b-d79d-4e3c-a5f9-3237cc18e06e"
   },
   "outputs": [
    {
     "data": {
      "image/png": "[encoded data removed]",
      "text/plain": [
       "<Figure size 640x480 with 1 Axes>"
      ]
     },
     "metadata": {},
     "output_type": "display_data"
    }
   ],
   "source": [
    "# Plot residuals from the model\n",
    "import matplotlib.pyplot as plt\n",
    "\n",
    "plt.scatter(model.fittedvalues, model.resid)\n",
    "plt.xlabel('Fitted Values')\n",
    "plt.ylabel('Residuals')\n",
    "plt.title('Residual Plot')\n",
    "plt.show()"
   ]
  },
  {
   "cell_type": "markdown",
   "metadata": {},
   "source": [
    "## Parse tree depth"
   ]
  },
  {
   "cell_type": "code",
   "execution_count": null,
   "metadata": {},
   "outputs": [],
   "source": [
    "import spacy\n",
    "\n",
    "# Load spaCy's English model\n",
    "nlp = spacy.load(\"en_core_web_sm\")\n",
    "\n",
    "def calculate_parse_tree_depth(sentence):\n",
    "    \"\"\"\n",
    "    Calculate the depth of the dependency parse tree for a given sentence.\n",
    "    \"\"\"\n",
    "    doc = nlp(sentence)\n",
    "    def get_depth(token):\n",
    "        if not list(token.children):  # If the token has no children, depth is 1\n",
    "            return 1\n",
    "        return 1 + max(get_depth(child) for child in token.children)\n",
    "    \n",
    "    # Get the depth of the root token\n",
    "    return max(get_depth(sent.root) for sent in doc.sents)\n",
    "\n",
    "# Example usage\n",
    "sentence = \"The quick brown fox jumps over the lazy dog.\"\n",
    "depth = calculate_parse_tree_depth(sentence)\n",
    "print(f\"Parse tree depth: {depth}\")"
   ]
  }
 ],
 "metadata": {
  "colab": {
   "provenance": []
  },
  "kernelspec": {
   "display_name": "Python 3",
   "name": "python3"
  },
  "language_info": {
   "name": "python"
  }
 },
 "nbformat": 4,
 "nbformat_minor": 0
}
