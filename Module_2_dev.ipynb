{
 "cells": [
  {
   "cell_type": "markdown",
   "metadata": {
    "id": "UZKfn646XRo0"
   },
   "source": [
    "## 0.  Imports"
   ]
  },
  {
   "cell_type": "code",
   "execution_count": null,
   "metadata": {
    "id": "umwuOVbmuUG9"
   },
   "outputs": [],
   "source": [
    "#%cd /content/\n",
    "#!rm -rf fever-scorer"
   ]
  },
  {
   "cell_type": "code",
   "execution_count": null,
   "metadata": {
    "colab": {
     "base_uri": "https://localhost:8080/"
    },
    "executionInfo": {
     "elapsed": 157,
     "status": "ok",
     "timestamp": 1743886086350,
     "user": {
      "displayName": "Henry Zelenak",
      "userId": "01809909909045225068"
     },
     "user_tz": 240
    },
    "id": "SWnbo9JNrNRl",
    "outputId": "e80ac7d8-9121-4d3a-8e6c-b907d84adbe1"
   },
   "outputs": [
    {
     "name": "stdout",
     "output_type": "stream",
     "text": [
      "fatal: destination path 'fever-scorer' already exists and is not an empty directory.\n"
     ]
    }
   ],
   "source": [
    "!git clone -b release-v2.0 https://github.com/sheffieldnlp/fever-scorer.git"
   ]
  },
  {
   "cell_type": "code",
   "execution_count": null,
   "metadata": {
    "colab": {
     "base_uri": "https://localhost:8080/"
    },
    "executionInfo": {
     "elapsed": 3,
     "status": "ok",
     "timestamp": 1743886086352,
     "user": {
      "displayName": "Henry Zelenak",
      "userId": "01809909909045225068"
     },
     "user_tz": 240
    },
    "id": "qhs44MknrYBW",
    "outputId": "1da481f6-0a05-445b-b7a0-9afa498052e5"
   },
   "outputs": [
    {
     "name": "stdout",
     "output_type": "stream",
     "text": [
      "/content/drive/MyDrive/SUNY_Poly_DSA598/datasets/FEVER/fever-scorer\n"
     ]
    }
   ],
   "source": [
    "%cd fever-scorer"
   ]
  },
  {
   "cell_type": "code",
   "execution_count": null,
   "metadata": {
    "colab": {
     "base_uri": "https://localhost:8080/"
    },
    "executionInfo": {
     "elapsed": 5118,
     "status": "ok",
     "timestamp": 1743886091471,
     "user": {
      "displayName": "Henry Zelenak",
      "userId": "01809909909045225068"
     },
     "user_tz": 240
    },
    "id": "MJRmxui4s4_9",
    "outputId": "ac9536a4-2fd5-4798-b3c0-77d3edbdada9"
   },
   "outputs": [
    {
     "name": "stdout",
     "output_type": "stream",
     "text": [
      "Requirement already satisfied: six in /usr/local/lib/python3.11/dist-packages (from -r requirements.txt (line 1)) (1.17.0)\n"
     ]
    }
   ],
   "source": [
    "!pip install -r requirements.txt\n"
   ]
  },
  {
   "cell_type": "code",
   "execution_count": null,
   "metadata": {
    "colab": {
     "base_uri": "https://localhost:8080/"
    },
    "executionInfo": {
     "elapsed": 40,
     "status": "ok",
     "timestamp": 1743886091514,
     "user": {
      "displayName": "Henry Zelenak",
      "userId": "01809909909045225068"
     },
     "user_tz": 240
    },
    "id": "ImTsxLYqjDs2",
    "outputId": "75cc032a-ea6f-41f7-be9d-c8670fedaff1"
   },
   "outputs": [
    {
     "name": "stdout",
     "output_type": "stream",
     "text": [
      "setup.py updated\n"
     ]
    }
   ],
   "source": [
    "# Open /setup.py and add 'license=\"MIT\"' on line 12, then overwrite the file\n",
    "import os\n",
    "with open('setup.py', 'r') as f:\n",
    "    lines = f.readlines()\n",
    "    lines[11] = 'license=\"MIT\"\\n'\n",
    "with open('setup.py', 'w') as f:\n",
    "    f.writelines(lines)\n",
    "    f.close()\n",
    "    print(\"setup.py updated\")\n"
   ]
  },
  {
   "cell_type": "code",
   "execution_count": null,
   "metadata": {
    "colab": {
     "base_uri": "https://localhost:8080/"
    },
    "executionInfo": {
     "elapsed": 10759,
     "status": "ok",
     "timestamp": 1743886102274,
     "user": {
      "displayName": "Henry Zelenak",
      "userId": "01809909909045225068"
     },
     "user_tz": 240
    },
    "id": "Q14RLRmVs8hd",
    "outputId": "ea1cdb69-a560-429c-8ff1-b54879f4aca0"
   },
   "outputs": [
    {
     "name": "stdout",
     "output_type": "stream",
     "text": [
      "Processing /content/drive/MyDrive/SUNY_Poly_DSA598/datasets/FEVER/fever-scorer\n",
      "  Preparing metadata (setup.py) ... \u001b[?25l\u001b[?25hdone\n",
      "Requirement already satisfied: six in /usr/local/lib/python3.11/dist-packages (from fever-scorer==0.0.0) (1.17.0)\n",
      "Building wheels for collected packages: fever-scorer\n",
      "  Building wheel for fever-scorer (setup.py) ... \u001b[?25l\u001b[?25hdone\n",
      "  Created wheel for fever-scorer: filename=fever_scorer-0.0.0-py3-none-any.whl size=8288 sha256=09b3a5adba88aff36988ffdec465a73744cfad4993dd9ef07aa5fa96369933f5\n",
      "  Stored in directory: /root/.cache/pip/wheels/b0/74/66/5effd7c246496d023a24a126de91720a2cc3b6a994a6ac582c\n",
      "Successfully built fever-scorer\n",
      "Installing collected packages: fever-scorer\n",
      "  Attempting uninstall: fever-scorer\n",
      "    Found existing installation: fever-scorer 0.0.0\n",
      "    Uninstalling fever-scorer-0.0.0:\n",
      "      Successfully uninstalled fever-scorer-0.0.0\n",
      "Successfully installed fever-scorer-0.0.0\n"
     ]
    },
    {
     "data": {
      "application/vnd.colab-display-data+json": {
       "id": "0c01783db71441e0b03b5ec2df6ca5b6",
       "pip_warning": {
        "packages": [
         "fever"
        ]
       }
      }
     },
     "metadata": {},
     "output_type": "display_data"
    }
   ],
   "source": [
    "!pip install ."
   ]
  },
  {
   "cell_type": "code",
   "execution_count": null,
   "metadata": {
    "colab": {
     "base_uri": "https://localhost:8080/"
    },
    "executionInfo": {
     "elapsed": 4718,
     "status": "ok",
     "timestamp": 1743886106994,
     "user": {
      "displayName": "Henry Zelenak",
      "userId": "01809909909045225068"
     },
     "user_tz": 240
    },
    "id": "4n9uJPKcF4hL",
    "outputId": "4e7aee97-14b4-4d3a-bd3f-090b0ecece7d"
   },
   "outputs": [
    {
     "name": "stdout",
     "output_type": "stream",
     "text": [
      "Requirement already satisfied: rouge-score in /usr/local/lib/python3.11/dist-packages (0.1.2)\n",
      "Requirement already satisfied: absl-py in /usr/local/lib/python3.11/dist-packages (from rouge-score) (1.4.0)\n",
      "Requirement already satisfied: nltk in /usr/local/lib/python3.11/dist-packages (from rouge-score) (3.9.1)\n",
      "Requirement already satisfied: numpy in /usr/local/lib/python3.11/dist-packages (from rouge-score) (2.0.2)\n",
      "Requirement already satisfied: six>=1.14.0 in /usr/local/lib/python3.11/dist-packages (from rouge-score) (1.17.0)\n",
      "Requirement already satisfied: click in /usr/local/lib/python3.11/dist-packages (from nltk->rouge-score) (8.1.8)\n",
      "Requirement already satisfied: joblib in /usr/local/lib/python3.11/dist-packages (from nltk->rouge-score) (1.4.2)\n",
      "Requirement already satisfied: regex>=2021.8.3 in /usr/local/lib/python3.11/dist-packages (from nltk->rouge-score) (2024.11.6)\n",
      "Requirement already satisfied: tqdm in /usr/local/lib/python3.11/dist-packages (from nltk->rouge-score) (4.67.1)\n"
     ]
    }
   ],
   "source": [
    "!pip install rouge-score"
   ]
  },
  {
   "cell_type": "code",
   "execution_count": null,
   "metadata": {
    "colab": {
     "base_uri": "https://localhost:8080/"
    },
    "executionInfo": {
     "elapsed": 11,
     "status": "ok",
     "timestamp": 1743886107005,
     "user": {
      "displayName": "Henry Zelenak",
      "userId": "01809909909045225068"
     },
     "user_tz": 240
    },
    "id": "tHI9GFAlDpDV",
    "outputId": "0ae4fc70-3095-471b-e495-b8c781b5190b"
   },
   "outputs": [
    {
     "name": "stderr",
     "output_type": "stream",
     "text": [
      "[nltk_data] Downloading package punkt to /root/nltk_data...\n",
      "[nltk_data]   Package punkt is already up-to-date!\n",
      "[nltk_data] Downloading package averaged_perceptron_tagger_eng to\n",
      "[nltk_data]     /root/nltk_data...\n",
      "[nltk_data]   Package averaged_perceptron_tagger_eng is already up-to-\n",
      "[nltk_data]       date!\n",
      "[nltk_data] Downloading package maxent_ne_chunker to\n",
      "[nltk_data]     /root/nltk_data...\n",
      "[nltk_data]   Package maxent_ne_chunker is already up-to-date!\n",
      "[nltk_data] Downloading package maxent_ne_chunker_tab to\n",
      "[nltk_data]     /root/nltk_data...\n",
      "[nltk_data]   Package maxent_ne_chunker_tab is already up-to-date!\n",
      "[nltk_data] Downloading package words to /root/nltk_data...\n",
      "[nltk_data]   Package words is already up-to-date!\n",
      "[nltk_data] Downloading package stopwords to /root/nltk_data...\n",
      "[nltk_data]   Package stopwords is already up-to-date!\n",
      "[nltk_data] Downloading package treebank to /root/nltk_data...\n",
      "[nltk_data]   Package treebank is already up-to-date!\n",
      "[nltk_data] Downloading package punkt_tab to /root/nltk_data...\n",
      "[nltk_data]   Package punkt_tab is already up-to-date!\n"
     ]
    },
    {
     "data": {
      "text/plain": [
       "True"
      ]
     },
     "execution_count": 78,
     "metadata": {},
     "output_type": "execute_result"
    }
   ],
   "source": [
    "import pandas as pd\n",
    "import nltk  # Make sure NLTK is installed and data downloaded (e.g., nltk.download('punkt'))\n",
    "from sklearn.feature_extraction.text import TfidfVectorizer\n",
    "from sklearn.metrics.pairwise import cosine_similarity\n",
    "from rouge_score import rouge_scorer\n",
    "import openai  # For LLM interaction\n",
    "from openai import OpenAI\n",
    "import numpy as np\n",
    "from nltk import Tree, pos_tag, word_tokenize, ne_chunk\n",
    "from nltk.corpus import stopwords\n",
    "import numpy as np\n",
    "from fever.scorer import fever_score # Import the FEVER scorer\n",
    "from nltk import RegexpParser\n",
    "import json\n",
    "\n",
    "# Download the necessary NLTK data files\n",
    "nltk.download('punkt')\n",
    "nltk.download('averaged_perceptron_tagger_eng')\n",
    "nltk.download('maxent_ne_chunker')\n",
    "nltk.download('maxent_ne_chunker_tab')\n",
    "nltk.download('words')\n",
    "nltk.download('stopwords')\n",
    "nltk.download('treebank')\n",
    "nltk.download('punkt_tab')"
   ]
  },
  {
   "cell_type": "markdown",
   "metadata": {
    "id": "Aj9q_ClFXRo4"
   },
   "source": [
    "## 1. Add data sources\n",
    "<a id=\"1\"></a>\n"
   ]
  },
  {
   "cell_type": "code",
   "execution_count": null,
   "metadata": {
    "colab": {
     "base_uri": "https://localhost:8080/"
    },
    "executionInfo": {
     "elapsed": 738,
     "status": "ok",
     "timestamp": 1743886107745,
     "user": {
      "displayName": "Henry Zelenak",
      "userId": "01809909909045225068"
     },
     "user_tz": 240
    },
    "id": "T21Kds-sFkB5",
    "outputId": "ce0ce67a-18e3-47cd-a724-369daf91ed5b"
   },
   "outputs": [
    {
     "name": "stdout",
     "output_type": "stream",
     "text": [
      "Drive already mounted at /content/drive; to attempt to forcibly remount, call drive.mount(\"/content/drive\", force_remount=True).\n"
     ]
    }
   ],
   "source": [
    "# Mount google drive\n",
    "from google.colab import drive\n",
    "import gc\n",
    "\n",
    "drive.mount('/content/drive')"
   ]
  },
  {
   "cell_type": "code",
   "execution_count": null,
   "metadata": {
    "id": "-Op1htlxFQZz"
   },
   "outputs": [],
   "source": [
    "from google.colab import userdata\n",
    "api_key = userdata.get('openaikey')\n",
    "client = OpenAI(api_key=api_key)"
   ]
  },
  {
   "cell_type": "code",
   "execution_count": null,
   "metadata": {
    "colab": {
     "base_uri": "https://localhost:8080/"
    },
    "executionInfo": {
     "elapsed": 11,
     "status": "ok",
     "timestamp": 1743886144202,
     "user": {
      "displayName": "Henry Zelenak",
      "userId": "01809909909045225068"
     },
     "user_tz": 240
    },
    "id": "HrnHrCbCFXXs",
    "outputId": "401a9023-1c7d-40d1-df4e-5a9ca83b4a09"
   },
   "outputs": [
    {
     "name": "stdout",
     "output_type": "stream",
     "text": [
      "/content/drive/My Drive/SUNY_Poly_DSA598\n"
     ]
    }
   ],
   "source": [
    "%cd ../drive/My Drive/SUNY_Poly_DSA598/"
   ]
  },
  {
   "cell_type": "code",
   "execution_count": null,
   "metadata": {
    "colab": {
     "base_uri": "https://localhost:8080/"
    },
    "executionInfo": {
     "elapsed": 113,
     "status": "ok",
     "timestamp": 1743886148670,
     "user": {
      "displayName": "Henry Zelenak",
      "userId": "01809909909045225068"
     },
     "user_tz": 240
    },
    "id": "MWAcKxBFFcfQ",
    "outputId": "a42634a8-b01e-440b-9f5f-969db7dfff7b"
   },
   "outputs": [
    {
     "name": "stdout",
     "output_type": "stream",
     "text": [
      "archive\t\t\t  .git\t\t\t\t  presentation\n",
      "datasets\t\t  .gitignore\t\t\t  scratch.txt\n",
      "FEVER_set_creation.ipynb  liar_gpt4omini_base_eval.ipynb  transcribe_voice_notes.ipynb\n",
      "FEVER_set_update.ipynb\t  Module_2_dev.ipynb\t\t  work_documents\n"
     ]
    }
   ],
   "source": [
    "!ls -a"
   ]
  },
  {
   "cell_type": "code",
   "execution_count": null,
   "metadata": {
    "colab": {
     "base_uri": "https://localhost:8080/"
    },
    "executionInfo": {
     "elapsed": 11,
     "status": "ok",
     "timestamp": 1743886149602,
     "user": {
      "displayName": "Henry Zelenak",
      "userId": "01809909909045225068"
     },
     "user_tz": 240
    },
    "id": "oZ5Hhk7HUAld",
    "outputId": "6d5971a6-150e-4530-bb94-25eef082e148"
   },
   "outputs": [
    {
     "name": "stdout",
     "output_type": "stream",
     "text": [
      "/content/drive/My Drive/SUNY_Poly_DSA598/datasets/FEVER\n"
     ]
    }
   ],
   "source": [
    "%cd ./datasets/FEVER/"
   ]
  },
  {
   "cell_type": "code",
   "execution_count": null,
   "metadata": {
    "colab": {
     "base_uri": "https://localhost:8080/"
    },
    "executionInfo": {
     "elapsed": 108,
     "status": "ok",
     "timestamp": 1743886153532,
     "user": {
      "displayName": "Henry Zelenak",
      "userId": "01809909909045225068"
     },
     "user_tz": 240
    },
    "id": "TxfUDQuvUDew",
    "outputId": "80c5bca1-eb6b-4512-dd07-0ef52a6843cd"
   },
   "outputs": [
    {
     "name": "stdout",
     "output_type": "stream",
     "text": [
      "AVeriTeC\t\t  feverous_train_challenges.jsonl  GPT_sets\t     tabular_sets\n",
      ".DS_Store\t\t  fever-scorer\t\t\t   paper_dev.jsonl   wiki-pages\n",
      "fever2-adversarial.jsonl  fever-train.jsonl\t\t   paper_test.jsonl\n"
     ]
    }
   ],
   "source": [
    "!ls -a"
   ]
  },
  {
   "cell_type": "code",
   "execution_count": null,
   "metadata": {
    "id": "IBL_wR71bbeh"
   },
   "outputs": [],
   "source": [
    "def load_jsonl(file_path, encoding='utf-8'):\n",
    "    \"\"\"Loads a JSON Lines file into a list of Python objects.\"\"\"\n",
    "    data = []\n",
    "    with open(file_path, 'r', encoding=encoding) as f:  # Specify encoding for safety\n",
    "        for line in f:\n",
    "            data.append(json.loads(line))  # Parse each line individually\n",
    "    return data"
   ]
  },
  {
   "cell_type": "code",
   "execution_count": null,
   "metadata": {
    "id": "fxxK5zjBPXar"
   },
   "outputs": [],
   "source": [
    "# Data paths (replace with your actual paths if different)\n",
    "fever_path = \"./datasets/FEVER/\"\n",
    "train_clf_path = f\"tabular_sets/tabular_clf_paper_dev_train/v1_segmented_sentIDs_n3461_04-04_002.csv\"\n",
    "valid_clf_path = f\"tabular_sets/tabular_clf_paper_dev_valid/v1_segmented_sentIDs_n1482_04-04_002.csv\"\n",
    "train_sentEx_path = f\"tabular_sets/tabular_sentEx_paper_dev_train/v1_segmented_sentIDs_n3461_04-04_002.csv\"\n",
    "valid_sentEx_path = f\"tabular_sets/tabular_sentEx_paper_dev_valid/v1_segmented_sentIDs_n1482_04-04_002.csv\"\n",
    "test_path = f\"paper_test.jsonl\"\n",
    "train_path = f\"paper_dev.jsonl\"\n",
    "\n",
    "# Load datasets\n",
    "train_clf = pd.read_csv(train_clf_path)\n",
    "valid_clf = pd.read_csv(valid_clf_path)\n",
    "train_sentEx = pd.read_csv(train_sentEx_path)\n",
    "valid_sentEx = pd.read_csv(valid_sentEx_path)\n",
    "test_jsonl = load_jsonl(test_path)\n",
    "train_jsonl = load_jsonl(train_path)"
   ]
  },
  {
   "cell_type": "code",
   "execution_count": null,
   "metadata": {
    "colab": {
     "base_uri": "https://localhost:8080/"
    },
    "executionInfo": {
     "elapsed": 23,
     "status": "ok",
     "timestamp": 1743894237754,
     "user": {
      "displayName": "Henry Zelenak",
      "userId": "01809909909045225068"
     },
     "user_tz": 240
    },
    "id": "FwlHIP2GEmz7",
    "outputId": "810e33ac-21f4-42cc-c6ce-ed6f0a7e7ab1"
   },
   "outputs": [
    {
     "name": "stdout",
     "output_type": "stream",
     "text": [
      "Train set label distribution:\n",
      "label\n",
      "SUPPORTS           1156\n",
      "REFUTES            1156\n",
      "NOT ENOUGH INFO    1149\n",
      "Name: count, dtype: int64\n",
      "Valid set label distribution:\n",
      "label\n",
      "SUPPORTS           495\n",
      "REFUTES            495\n",
      "NOT ENOUGH INFO    488\n",
      "Name: count, dtype: int64\n",
      "Train set label distribution after balancing:\n",
      "label\n",
      "NOT ENOUGH INFO    1149\n",
      "REFUTES            1149\n",
      "SUPPORTS           1149\n",
      "Name: count, dtype: int64\n",
      "Valid set label distribution after balancing:\n",
      "label\n",
      "NOT ENOUGH INFO    488\n",
      "REFUTES            488\n",
      "SUPPORTS           488\n",
      "Name: count, dtype: int64\n"
     ]
    },
    {
     "name": "stderr",
     "output_type": "stream",
     "text": [
      "<ipython-input-128-03091368d446>:9: DeprecationWarning: DataFrameGroupBy.apply operated on the grouping columns. This behavior is deprecated, and in a future version of pandas the grouping columns will be excluded from the operation. Either pass `include_groups=False` to exclude the groupings or explicitly select the grouping columns after groupby to silence this warning.\n",
      "  train_sentEx = train_sentEx.groupby('label').apply(lambda x: x.sample(min_count)).reset_index(drop=True)\n",
      "<ipython-input-128-03091368d446>:11: DeprecationWarning: DataFrameGroupBy.apply operated on the grouping columns. This behavior is deprecated, and in a future version of pandas the grouping columns will be excluded from the operation. Either pass `include_groups=False` to exclude the groupings or explicitly select the grouping columns after groupby to silence this warning.\n",
      "  valid_sentEx = valid_sentEx.groupby('label').apply(lambda x: x.sample(min_count)).reset_index(drop=True)\n"
     ]
    }
   ],
   "source": [
    "# Show the distribution of labels\n",
    "print(f\"Train set label distribution:\")\n",
    "print(train_sentEx['label'].value_counts())\n",
    "print(f\"Valid set label distribution:\")\n",
    "print(valid_sentEx['label'].value_counts())\n",
    "\n",
    "# Balance the labels by reducing each to the minimum count\n",
    "min_count = min(train_sentEx['label'].value_counts())\n",
    "train_sentEx = train_sentEx.groupby('label').apply(lambda x: x.sample(min_count)).reset_index(drop=True)\n",
    "min_count = min(valid_sentEx['label'].value_counts())\n",
    "valid_sentEx = valid_sentEx.groupby('label').apply(lambda x: x.sample(min_count)).reset_index(drop=True)\n",
    "\n",
    "print(f\"Train set label distribution after balancing:\")\n",
    "print(train_sentEx['label'].value_counts())\n",
    "print(f\"Valid set label distribution after balancing:\")\n",
    "print(valid_sentEx['label'].value_counts())"
   ]
  },
  {
   "cell_type": "markdown",
   "metadata": {
    "id": "QWWww4d0XRo5"
   },
   "source": [
    "## 2.  Test FEVER Scorer\n",
    "<a id=\"2\"></a>"
   ]
  },
  {
   "cell_type": "code",
   "execution_count": null,
   "metadata": {
    "colab": {
     "base_uri": "https://localhost:8080/"
    },
    "executionInfo": {
     "elapsed": 22,
     "status": "ok",
     "timestamp": 1743886156713,
     "user": {
      "displayName": "Henry Zelenak",
      "userId": "01809909909045225068"
     },
     "user_tz": 240
    },
    "id": "UR6TeTg9XRo6",
    "outputId": "2087fc3d-85c4-4a06-8fff-bc229a98c2e3"
   },
   "outputs": [
    {
     "name": "stdout",
     "output_type": "stream",
     "text": [
      "Strict Score: 0.67\n",
      "Label Accuracy: 1.00\n",
      "Precision: 1.00\n",
      "Recall: 0.50\n",
      "F1 Score: 0.67\n"
     ]
    }
   ],
   "source": [
    "\n",
    "\n",
    "# Sample instances\n",
    "instances = [\n",
    "    {\n",
    "        \"label\": \"REFUTES\",\n",
    "        \"predicted_label\": \"REFUTES\",\n",
    "        \"predicted_evidence\": [[\"Page1\", 1], [\"Page3\", 2]],\n",
    "        \"evidence\": [\n",
    "            [\n",
    "                [None, None, \"Page1\", 1],\n",
    "                [None, None, \"Page3\", 1],\n",
    "                [None, None, \"Page3\", 2],\n",
    "            ],\n",
    "        ],\n",
    "    },\n",
    "    {\n",
    "        \"label\": \"SUPPORTS\",\n",
    "        \"predicted_label\": \"SUPPORTS\",\n",
    "        \"predicted_evidence\": [[\"Page3\", 3]],\n",
    "        \"evidence\": [\n",
    "            [\n",
    "                [None, None, \"Page3\", 3]\n",
    "            ]\n",
    "        ],\n",
    "    },\n",
    "    {\n",
    "        \"label\": \"NOT ENOUGH INFO\",\n",
    "        \"predicted_label\": \"NOT ENOUGH INFO\",\n",
    "        \"predicted_evidence\": [],\n",
    "        \"evidence\": [],\n",
    "    },\n",
    "]\n",
    "\n",
    "# Calculate scores\n",
    "strict_score, label_accuracy, precision, recall, f1 = fever_score(instances)\n",
    "\n",
    "# Display results\n",
    "print(f\"Strict Score: {strict_score:.2f}\")\n",
    "print(f\"Label Accuracy: {label_accuracy:.2f}\")\n",
    "print(f\"Precision: {precision:.2f}\")\n",
    "print(f\"Recall: {recall:.2f}\")\n",
    "print(f\"F1 Score: {f1:.2f}\")\n"
   ]
  },
  {
   "cell_type": "markdown",
   "metadata": {
    "id": "iTBcIxD_LoXs"
   },
   "source": [
    "## 3. Module 2\n",
    "<a id=\"3\"></a>"
   ]
  },
  {
   "cell_type": "code",
   "execution_count": null,
   "metadata": {
    "id": "TO5Dt_5vCGqG"
   },
   "outputs": [],
   "source": [
    "def module_2_2_controls(claim, documents, entities, keywords, co_thresh=0.2, ro_thresh=0.2, verbose=0, debug=False):\n",
    "    \"\"\"\n",
    "    Module 2: Semi-supervised Distillation for sentence extraction.\n",
    "\n",
    "    Args:\n",
    "        claim (str): The input claim.\n",
    "        documents (list of str): List of retrieved documents (full text).\n",
    "        entity (str):  The main entity in the claim (or None if not found).\n",
    "        keywords (list of str):  Top keywords from the claim.\n",
    "\n",
    "    Returns:\n",
    "        tuple: (list of str, str):  A list of extracted evidence sentences and the exit status (\"NOT ENOUGH INFO\" or \"OK\").\n",
    "    \"\"\"\n",
    "\n",
    "    # Module 2 report: a dataframe to to store inputs and outputs\n",
    "    extracted_sentences = []\n",
    "    max_iterations = min(5, len(documents)) # This will be determined later with actual number of sentences across all docs\n",
    "    if debug:\n",
    "      print(f\"DEBUG 2.1.1:\")\n",
    "      print(f\"\\tNumber of documents: {len(documents)}\")\n",
    "      print(f\"\\tMax iterations: {max_iterations}\")\n",
    "      print(\"-_-_-_-_-_-_-_-_-_-_-_-_-_-_-_-_-_-_-_-_-_-\")\n",
    "\n",
    "    \"\"\"\n",
    "    if entities == []:\n",
    "      if verbose == 1:\n",
    "        print(\"No entities found, early exiting...\")\n",
    "        return [], \"NOT ENOUGH INFO\" # Early exit if no entity\n",
    "    \"\"\"\n",
    "\n",
    "    # convert entities to string\n",
    "    if not entities:\n",
    "      entities = \"\"\n",
    "      # prompts\n",
    "      prompts = {\n",
    "            \"init\": f\"Retrieve sentences from the list that either support or refute the following claim. Specifically, focus on sentences mentioning {keywords}. Order the sentences by relevance, highest first, and return a list separated by the return character. If there are no relevant sentences, respond with 'NOT ENOUGH INFO'. DO NOT CREATE ANY SENTENCES THAT ARE NOT IN THE PROVIDED LIST, AND DO NOT TRUNCATE THE SENTENCE.\",\n",
    "            \"followup\": f\"You didn’t find enough sentences. Find additional (new) sentences that are relevant to key points in the claim. Order the sentences by relevance, highest first, and return a list separated by the return character. If there are no relevant sentences, respond with 'NOT ENOUGH INFO'. DO NOT CREATE ANY SENTENCES THAT ARE NOT IN THE PROVIDED LIST, AND DO NOT TRUNCATE THE SENTENCE.\",\n",
    "        }\n",
    "    else:\n",
    "      entities = \", \".join(entities)\n",
    "      # prompts\n",
    "      prompts = {\n",
    "            \"init\": f\"Retrieve sentences from the list that either support or refute the following claim. Specifically, focus on sentences mentioning {entities} or {keywords}. Order the sentences by relevance, highest first, and return a list separated by the return character. If there are no relevant sentences, respond with 'NOT ENOUGH INFO'. DO NOT CREATE ANY SENTENCES THAT ARE NOT IN THE PROVIDED LIST, AND DO NOT TRUNCATE THE SENTENCE.\",\n",
    "            \"followup\": f\"You didn’t find enough sentences. Find additional (new) sentences that that are relevant to key points in the claim. Order the sentences by relevance, highest first, and return a list separated by the return character. If there are no relevant sentences, respond with 'NOT ENOUGH INFO'. DO NOT CREATE ANY SENTENCES THAT ARE NOT IN THE PROVIDED LIST, AND DO NOT TRUNCATE THE SENTENCE.\",\n",
    "      }\n",
    "      if debug:\n",
    "        print(f\"DEBUG 2.1.2:\")\n",
    "        print(f\"\\tClaim: {claim}\")\n",
    "        print(f\"\\tEntities: {entities}\")\n",
    "        print(f\"\\tKeywords: {keywords}\")\n",
    "        print(\"-_-_-_-_-_-_-_-_-_-_-_-_-_-_-_-_-_-_-_-_-_-\")\n",
    "\n",
    "    for iteration in range(max_iterations):\n",
    "      # 2.2 Prompt Selection (no agent - programmatic)\n",
    "      if iteration == 0:\n",
    "          prompt = prompts[\"init\"]\n",
    "      else:\n",
    "          prompt = prompts[\"followup\"]\n",
    "\n",
    "      # 2.3 Sentence Extraction (with pre-filtering)\n",
    "      # Drop empty sentences from the list\n",
    "      documents = [doc for doc in documents if doc.strip()]\n",
    "      #filtered_text = sliding_window_filter(documents, entities, keywords)\n",
    "      # Simply form the list of document strings into one string joined by \\n for now\n",
    "      filtered_text = \"\\n\".join(documents)\n",
    "      if debug:\n",
    "        print(f\"DEBUG 2.3.1:\")\n",
    "        print(f\"\\tFiltered text: {filtered_text}\")\n",
    "        print(\"-_-_-_-_-_-_-_-_-_-_-_-_-_-_-_-_-_-_-_-_-_-\")\n",
    "      new_sentences = extract_sentences_with_llm(claim, filtered_text, prompt, debug)\n",
    "\n",
    "      if debug:\n",
    "        print(f\"DEBUG 2.3.3:\")\n",
    "        print(f\"\\tNumber of retrieved sentences on iteration {iteration}: {len(new_sentences)}\")\n",
    "        print(f\"\\tNew sentences: {new_sentences}\")\n",
    "        print(\"-_-_-_-_-_-_-_-_-_-_-_-_-_-_-_-_-_-_-_-_-_-\")\n",
    "\n",
    "      if new_sentences != [\"NOT ENOUGH INFO\"]:  # LLM found no relevant sentences\n",
    "        if verbose == 1:\n",
    "          print(f\"2.3: LLM found sentences on iteration {iteration}.\")\n",
    "\n",
    "        # 2.4 Similarity Comparison and Thresholding\n",
    "        new_sentences = similarity_thresholding(claim, new_sentences, co_thresh, ro_thresh, debug)\n",
    "\n",
    "        if verbose == 1:\n",
    "          print(f\"\\tExtracted sentences: {new_sentences}\")\n",
    "          print(f\"\\tNumber of extracted sentences: {len(new_sentences)}\")\n",
    "          print(f\"\\tMax iterations: {max_iterations}\")\n",
    "          print(\"-------------------------------------------------------------\")\n",
    "\n",
    "        extracted_sentences.extend(new_sentences)  # Add new sentences to the list\n",
    "\n",
    "        if debug:\n",
    "          print(f\"DEBUG 2.4.2:\")\n",
    "          print(f\"\\tAdded {len(new_sentences)} new sentences on iteration {iteration}.\")\n",
    "          print(f\"\\tTotal extracted sentences: {len(extracted_sentences)}\")\n",
    "          print(f\"\\tExtracted sentences: {extracted_sentences}\")\n",
    "          print(\"-_-_-_-_-_-_-_-_-_-_-_-_-_-_-_-_-_-_-_-_-_-\")\n",
    "          print(f\"Reached the end of the loop, iteration: {iteration}\")\n",
    "          print(\"#-------------------------------------------------------------#\")\n",
    "\n",
    "\n",
    "        # First exit condition\n",
    "        if len(extracted_sentences) >= min(max_iterations, 5):\n",
    "            if verbose == 1:\n",
    "                print(f\"2.4: Found enough sentences, exiting...\")\n",
    "                print(\"-------------------------------------------------------------\")\n",
    "            report = {\n",
    "                \"claim\": claim,\n",
    "                \"max_iterations\": max_iterations,\n",
    "                \"final_iteration\": iteration + 1,\n",
    "                \"co_thresh\": co_thresh,\n",
    "                \"ro_thresh\": ro_thresh,\n",
    "                \"prompts\": [prompts['init'], prompts['followup']],\n",
    "            }\n",
    "            return extracted_sentences, \"OK\", report\n",
    "\n",
    "        #Check for final early exit\n",
    "        elif len(extracted_sentences) < min(max_iterations, 5) and iteration+1 == max_iterations: # Pilot study will determine best practices here\n",
    "          if verbose == 1:\n",
    "            print(f\"2.4: REACHED MAX ITERATIONS, BUT FEWER THAN THE MAXIMUM POSSIBLE SENTENCES FOUND, EARLY EXITING WITH WHATEVER WE HAVE SO FAR\")\n",
    "            print(\"-------------------------------------------------------------\")\n",
    "          report = {\n",
    "              \"claim\": claim,\n",
    "              \"max_iterations\": max_iterations,\n",
    "              \"final_iteration\": iteration + 1,\n",
    "              \"co_thresh\": co_thresh,\n",
    "              \"ro_thresh\": ro_thresh,\n",
    "              \"prompts\": [prompts['init'], prompts['followup']],\n",
    "          }\n",
    "          return extracted_sentences, \"OK\", report\n",
    "      else:\n",
    "        if iteration == 0:  # No sentences found in the first iteration\n",
    "          if iteration+1 != max_iterations:\n",
    "            if verbose == 1:\n",
    "              print(f\"2.3: LLM claims to find NOT ENOUGH INFO on first iteration (focusing on entities), reprompting without entities...\")\n",
    "              print(\"-------------------------------------------------------------\")\n",
    "            continue\n",
    "          else:\n",
    "            if verbose == 1:\n",
    "              print(f\"2.3: LLM claims to find NOT ENOUGH INFO on first iteration and ONLY 1 ITERATION POSSIBLE, EARLY EXITING...\")\n",
    "              print(\"-------------------------------------------------------------\")\n",
    "            report = {\n",
    "                \"claim\": claim,\n",
    "                \"max_iterations\": max_iterations,\n",
    "                \"final_iteration\": iteration + 1,\n",
    "                \"co_thresh\": co_thresh,\n",
    "                \"ro_thresh\": ro_thresh,\n",
    "                \"prompts\": [prompts['init'], prompts['followup']],\n",
    "            }\n",
    "            return [], \"NOT ENOUGH INFO\", report  # Early exit if no relevant sentences in first pass.\n",
    "        elif iteration == 1 and len(extracted_sentences) != 0:  # No sentences found in the second iteration, but at least one found in the first iteration\n",
    "          if verbose == 1:\n",
    "            print(f\"2.3: LLM found no relevant sentences in the second iteration, but found at least one in the first iteration. Exiting with what we have...\")\n",
    "            print(\"-------------------------------------------------------------\")\n",
    "          report = {\n",
    "              \"claim\": claim,\n",
    "              \"max_iterations\": max_iterations,\n",
    "              \"final_iteration\": iteration + 1,\n",
    "              \"co_thresh\": co_thresh,\n",
    "              \"ro_thresh\": ro_thresh,\n",
    "              \"prompts\": [prompts['init'], prompts['followup']],\n",
    "          }\n",
    "          return extracted_sentences, \"OK\", report\n",
    "        elif iteration == 1 and len(extracted_sentences) == 0:  # No sentences found in the second iteration and no sentences found in the first iteration\n",
    "          if verbose == 1:\n",
    "            print(f\"2.3: LLM found no relevant sentences in the second iteration and no sentences found in the first iteration, early exiting...\")\n",
    "            print(\"-------------------------------------------------------------\")\n",
    "          report = {\n",
    "              \"claim\": claim,\n",
    "              \"max_iterations\": max_iterations,\n",
    "              \"final_iteration\": iteration + 1,\n",
    "              \"co_thresh\": co_thresh,\n",
    "              \"ro_thresh\": ro_thresh,\n",
    "              \"prompts\": [prompts['init'], prompts['followup']],\n",
    "          }\n",
    "          return [], \"NOT ENOUGH INFO\", report # Early exit if no relevant sentences in second pass.\n",
    "        else:\n",
    "          if verbose == 1:\n",
    "            print(f\"2.3: LLM claims to find NOT ENOUGH INFO after 2 iterations, early exiting...\")\n",
    "            print(\"-------------------------------------------------------------\")\n",
    "          report = {\n",
    "              \"claim\": claim,\n",
    "              \"max_iterations\": max_iterations,\n",
    "              \"final_iteration\": iteration + 1,\n",
    "              \"co_thresh\": co_thresh,\n",
    "              \"ro_thresh\": ro_thresh,\n",
    "              \"prompts\": [prompts['init'], prompts['followup']],\n",
    "          }\n",
    "          return [], \"NOT ENOUGH INFO\", report # Early exit if no relevant sentences in third pass.\n",
    "\n",
    "\n",
    "def sliding_window_filter(documents, entity, keywords, debug=False):\n",
    "    \"\"\"\n",
    "    Performs sliding window filtering based on entity and keywords.\n",
    "\n",
    "    Args:\n",
    "        documents (list of str):  List of documents.\n",
    "        entity (str): The entity to match.\n",
    "        keywords (list of str): The keywords to match.\n",
    "\n",
    "    Returns:\n",
    "        str: Concatenated filtered text.\n",
    "    \"\"\"\n",
    "    # TODO: Implement sliding window filtering logic (using NLTK, spaCy, etc.).\n",
    "    # This function should concatenate sentences from windows that contain entity/keywords.\n",
    "    filtered_sentences = []\n",
    "\n",
    "    for document in documents:\n",
    "        sentences = nltk.sent_tokenize(document)\n",
    "        window_size = 3  # Experiment with different window sizes.\n",
    "        for i in range(len(sentences) - window_size + 1):\n",
    "            window = sentences[i : i + window_size]\n",
    "            window_text = \" \".join(window)\n",
    "            if entity in window_text and any(keyword in window_text for keyword in keywords):\n",
    "                filtered_sentences.extend(window) # Add matching sentences from window to filtered sentences\n",
    "\n",
    "    filtered_text = \"\\n\".join(filtered_sentences)\n",
    "    return filtered_text\n",
    "\n",
    "\n",
    "def extract_sentences_with_llm(claim, filtered_text, prompt, debug=False):\n",
    "    \"\"\"\n",
    "    Extracts sentences using an LLM.\n",
    "\n",
    "    Args:\n",
    "        claim (str): The input claim.\n",
    "        filtered_text (str): The pre-filtered text.\n",
    "        prompt (str): The prompt for the LLM.\n",
    "\n",
    "    Returns:\n",
    "        list of str: Extracted sentences.\n",
    "    \"\"\"\n",
    "    # TODO: Implement LLM interaction (using OpenAI API, etc.).\n",
    "    # Use the provided prompt and filtered_text to extract sentences with the LLM.\n",
    "\n",
    "    if debug:\n",
    "      print(f\"DEBUG 2.3.2:\")\n",
    "      print(f\"\\tPrompt: {prompt}\")\n",
    "      print(f\"\\tFiltered text: {filtered_text}\")\n",
    "      print(\"-_-_-_-_-_-_-_-_-_-_-_-_-_-_-_-_-_-_-_-_-_-\")\n",
    "\n",
    "    response = client.chat.completions.create(\n",
    "        model=\"gpt-4o-mini-2024-07-18\",\n",
    "        messages=[\n",
    "            {\"role\": \"system\", \"content\": \"You are a helpful assistant that extracts evidence sentences.\"},\n",
    "            {\"role\": \"user\", \"content\": f\"{prompt}\\nClaim: {claim}\\nText: {filtered_text}\"},\n",
    "        ],\n",
    "        max_tokens=1024,\n",
    "        n=1,\n",
    "        stop=None,  # Or a suitable stop sequence\n",
    "        temperature=0.9,  # Adjust as needed\n",
    "    )\n",
    "    extracted_sentences_raw = response.choices[0].message.content\n",
    "    extracted_sentences = extracted_sentences_raw.split('\\n')  # Assuming sentences are separated by newlines\n",
    "\n",
    "    return extracted_sentences\n",
    "\n",
    "\n",
    "def similarity_thresholding(claim, sentences, co_thresh=0.2, ro_thresh=0.2, debug=False):\n",
    "    \"\"\"\n",
    "    Thresholds sentences based on similarity to the claim.\n",
    "\n",
    "    Args:\n",
    "        claim (str): The input claim.\n",
    "        sentences (list of str): The sentences to threshold.\n",
    "\n",
    "    Returns:\n",
    "        list of str:  The sentences that meet the similarity threshold.\n",
    "    \"\"\"\n",
    "    # TODO: Implement similarity calculations (ROUGE, TF-IDF, cosine similarity).\n",
    "    # Return only the sentences that exceed the defined threshold(s).\n",
    "\n",
    "    filtered_sentences = []\n",
    "\n",
    "    vectorizer = TfidfVectorizer()  # Initialize TF-IDF vectorizer\n",
    "    claim_tfidf = vectorizer.fit_transform([claim])\n",
    "    scorer = rouge_scorer.RougeScorer(['rouge1'], use_stemmer=True)\n",
    "\n",
    "    for sentence in sentences:\n",
    "        sentence_tfidf = vectorizer.transform([sentence])\n",
    "        cosine_sim = cosine_similarity(claim_tfidf, sentence_tfidf)[0][0]\n",
    "        rouge_scores = scorer.score(claim, sentence)\n",
    "        rouge1_score = rouge_scores['rouge1'].fmeasure  # Example: Use ROUGE-1 F1-score\n",
    "\n",
    "        if debug:\n",
    "          print(f\"DEBUG 2.4.1:\")\n",
    "          print(f\"\\tClaim: {claim}\")\n",
    "          print(f\"\\tSentence: {sentence}\")\n",
    "          print(f\"\\tCosine Similarity: {cosine_sim}\")\n",
    "          print(f\"\\tROUGE-1 F1-score: {rouge1_score}\")\n",
    "          print(\"-_-_-_-_-_-_-_-_-_-_-_-_-_-_-_-_-_-_-_-_-_-\")\n",
    "\n",
    "        if cosine_sim >= co_thresh and rouge1_score >= ro_thresh:  # Example: Combine cosine similarity and ROUGE\n",
    "            filtered_sentences.append(sentence)\n",
    "            if debug:\n",
    "              print(f\"\\tAdded sentence to filtered sentences: {sentence}\")\n",
    "              print(\"-_-_-_-_-_-_-_-_-_-_-_-_-_-_-_-_-_-_-_-_-_-\")\n",
    "        else:\n",
    "          if debug:\n",
    "            print(f\"\\tSentence did not meet similarity threshold: {sentence}\")\n",
    "            print(\"-_-_-_-_-_-_-_-_-_-_-_-_-_-_-_-_-_-_-_-_-_-\")\n",
    "\n",
    "    return filtered_sentences\n",
    "\n",
    "\n",
    "# Entity and keywords extraction function\n",
    "def extract_entities(text):\n",
    "    \"\"\"\n",
    "    Extracts entities from the text using NLTK's Named Entity Chunker.\n",
    "\n",
    "    Args:\n",
    "        text (str): The input text.\n",
    "\n",
    "    Returns:\n",
    "        list of str: List of extracted entities.\n",
    "    \"\"\"\n",
    "    stop_words = set(stopwords.words('english'))\n",
    "    tokens = word_tokenize(text)\n",
    "    tokens = [word for word in tokens if word.lower() not in stop_words]\n",
    "    tagged_tokens = pos_tag(tokens)\n",
    "    named_entities = ne_chunk(tagged_tokens)\n",
    "\n",
    "    entities = []\n",
    "    for subtree in named_entities:\n",
    "        if isinstance(subtree, Tree):\n",
    "            entity = \" \".join([word for word, tag in subtree.leaves()])\n",
    "            entities.append(entity)\n",
    "\n",
    "    return entities\n",
    "\n",
    "\n",
    "# Keyword extraction function\n",
    "def extract_keywords(text):\n",
    "    \"\"\"\n",
    "    Extracts keywords from the text using TF-IDF.\n",
    "\n",
    "    Args:\n",
    "        text (str): The input text.\n",
    "\n",
    "    Returns:\n",
    "        list of str: List of extracted keywords.\n",
    "    \"\"\"\n",
    "    vectorizer = TfidfVectorizer(stop_words='english', max_features=10)  # Adjust max_features as needed\n",
    "    tfidf_matrix = vectorizer.fit_transform([text])\n",
    "    feature_names = vectorizer.get_feature_names_out()\n",
    "    dense = tfidf_matrix.todense()\n",
    "    denselist = dense.tolist()\n",
    "    # Convert the list to a NumPy array to use argsort()\n",
    "\n",
    "    dense_array = np.array(denselist[0])\n",
    "    keywords = [feature_names[i] for i in dense_array.argsort()[-5:]]  # Get top 5 keywords\n",
    "\n",
    "    return keywords"
   ]
  },
  {
   "cell_type": "markdown",
   "metadata": {
    "id": "qz3SVu5uhcxx"
   },
   "source": [
    "## 4. Module 1\n",
    "<a id=\"4\"></a>"
   ]
  },
  {
   "cell_type": "code",
   "execution_count": null,
   "metadata": {
    "id": "bK5axsjBn_Fw"
   },
   "outputs": [],
   "source": [
    "# Module 1: Document retrieval from wikipedia based on keywords, entities, and claim\n",
    "import requests\n",
    "from bs4 import BeautifulSoup\n",
    "import re\n",
    "import ast\n",
    "\n",
    "\n",
    "def query_generator(claim, keywords, entities, debug=False):\n",
    "    \"\"\"\n",
    "    Generates a query for Wikipedia based on the claim, keywords, and entities.\n",
    "\n",
    "    Args:\n",
    "        claim (str): The input claim.\n",
    "        keywords (list of str): The keywords to include in the query.\n",
    "        entities (list of str): The entities to include in the query.\n",
    "\n",
    "    Returns:\n",
    "        str: The generated query.\n",
    "    \"\"\"\n",
    "    prompt = f\"Generate a Wikipedia query based on the claim: '{claim}'. Include keywords: {', '.join(keywords)} and entities: {', '.join(entities)}. Respond only with the query as a string on a single line.\"\n",
    "    response = client.chat.completions.create(\n",
    "        model=\"gpt-4o-mini-2024-07-18\",\n",
    "        messages=[\n",
    "            {\"role\": \"system\", \"content\": \"You are a helpful assistant that generates Wikipedia queries.\"},\n",
    "            {\"role\": \"user\", \"content\": prompt},\n",
    "        ],\n",
    "        max_tokens=512,  # Adjust as needed\n",
    "        n=1,\n",
    "        stop=None,  # Or a suitable stop sequence\n",
    "        temperature=0.9,  # Adjust as needed\n",
    "    )\n",
    "    query = response.choices[0].message.content\n",
    "    return query\n",
    "\n",
    "\n",
    "def retrieve_documents_from_wikipedia(claim, keywords, entities, debug=False):\n",
    "    \"\"\"\n",
    "    Retrieves documents from Wikipedia based on the claim, keywords, and entities.\n",
    "\n",
    "    Args:\n",
    "        claim (str): The input claim.\n",
    "        keywords (list of str): The keywords to include in the query.\n",
    "        entities (list of str): The entities to include in the query.\n",
    "\n",
    "    Returns:\n",
    "        list of str: Retrieved documents.\n",
    "    \"\"\"\n",
    "    query = query_generator(claim, keywords, entities, debug=False)\n",
    "    if debug:\n",
    "      print(f\"DEBUG 1.2.1:\")\n",
    "      print(f\"\\tQuery: {query}\")\n",
    "      print(\"-_-_-_-_-_-_-_-_-_-_-_-_-_-\")\n",
    "    # Perform a Wikipedia search\n",
    "    search_url = f\"https://en.wikipedia.org/w/index.php?search={requests.utils.quote(query)}\"\n",
    "    response = requests.get(search_url)\n",
    "    soup = BeautifulSoup(response.text, 'html.parser')\n",
    "    # Extract links to Wikipedia pages\n",
    "    links = soup.find_all('a', href=re.compile(r'^/wiki/'))\n",
    "    documents = []\n",
    "    # Get just the introduction of each page\n",
    "    for link in links:\n",
    "        page_url = f\"https://en.wikipedia.org{link['href']}\"\n",
    "        response = requests.get(page_url)\n",
    "        data = response.json\n",
    "        if 'parse' in data:\n",
    "          page_content = data['parse']['text']['*']\n",
    "          # Extract the introduction sections (all of the first paragraph element until we hit a <meta> or <div> tag)\n",
    "          p_found = False\n",
    "          paragraphs = \"\"\n",
    "          for element in page_content:\n",
    "              if p_found:\n",
    "                  if element.name != 'p':\n",
    "                      break\n",
    "              if element.name == 'p':\n",
    "                  p_found = True\n",
    "                  paragraphs += \"\\n\" + element.text\n",
    "\n",
    "          if paragraphs:\n",
    "            # Remove HTML tags\n",
    "            paragraphs = re.sub(r'<.*?>', '', paragraphs)\n",
    "            # Remove references\n",
    "            paragraphs = re.sub(r'\\[.*?\\]', '', paragraphs)\n",
    "            # Remove digits that are preceded by any letter, period, colon, semicolon, endash (–), and emdash(—) and followed by a space\n",
    "            paragraphs = re.sub(r'(?<=[a-zA-Z0-9\\.\\:\\;\\–\\—])\\d+(?=\\s)', '', paragraphs)\n",
    "            # Convert encoded html entities to unicode (e.g., &amp; to &)\n",
    "            paragraphs = re.sub(r'&[a-zA-Z0-9#]+;', '', paragraphs)\n",
    "            # Remove extra whitespace\n",
    "            paragraphs = re.sub(r'\\s+', ' ', paragraphs).strip()\n",
    "            documents.append(paragraphs)\n",
    "          else:\n",
    "            print(f\"\\tError: No text content found for {page_url}\")\n",
    "        else:\n",
    "            print(f\"\\tError: No parse data found for {page_url}\")\n",
    "    if debug:\n",
    "      print(f\"DEBUG 1.2.2:\")\n",
    "      print(f\"\\tNumber of documents retrieved: {len(documents)}\")\n",
    "      print(\"-_-_-_-_-_-_-_-_-_-_-_-_-\")\n",
    "    return documents\n"
   ]
  },
  {
   "cell_type": "code",
   "execution_count": null,
   "metadata": {
    "id": "C-2nuV15vpuQ"
   },
   "outputs": [],
   "source": [
    "# Shuffle the valid_sentEx df with a seed\n",
    "valid_sentEx = valid_sentEx.sample(frac=1, random_state=2025)"
   ]
  },
  {
   "cell_type": "markdown",
   "metadata": {
    "id": "e_WoPKxCUCB5"
   },
   "source": [
    "### 4.2 Test Module 2"
   ]
  },
  {
   "cell_type": "code",
   "execution_count": null,
   "metadata": {
    "id": "i34VXt_vV8nY"
   },
   "outputs": [],
   "source": [
    "# Quick near-match function for FEVER reference matching to ID-agnostic output sentences\n",
    "def near_match(a, b, threshold=0.8, verbose=0):\n",
    "  \"\"\"\n",
    "  Checks if two strings are similar based on a threshold.\n",
    "\n",
    "  Args:\n",
    "      a (str): The first string.\n",
    "      b (str): The second string.\n",
    "      threshold (float): The similarity threshold.\n",
    "\n",
    "  Returns:\n",
    "      bool: True if the strings are similar, False otherwise.\n",
    "  \"\"\"\n",
    "  sim = len(set(a.split()).intersection(set(b.split()))) / max(len(a.split()), len(b.split())) >= threshold\n",
    "  if verbose == 1:\n",
    "      print(f\"Comparing '{a}' with '{b}'\\n\\tat {threshold}Similarity = {sim}\")\n",
    "  return sim\n",
    "\n",
    "# Module 1 simulation\n",
    "index = 165\n",
    "def get_test_claim(df, mode, verbose=0, debug=False):\n",
    "    \"\"\"\n",
    "    In \"test\" mode, gets data for a claim by matching a row in the df (which contains the claim and the wikipedia text data) to the JSONL object\n",
    "    (which contains the claim and the evidence references) by the claim, returning the claim, label, evidence sentences, documents, and evidence references.\n",
    "\n",
    "    In 'live' mode, gets data for a claim by generating a query and retrieving documents from Wikipedia. THIS MODE IS NOT COMPATIBLE WITH FEVER SCORING.\n",
    "\n",
    "    EXAMPLE:\n",
    "    {\"id\": 113501, \"verifiable\": \"NOT VERIFIABLE\", \"label\": \"NOT ENOUGH INFO\", \"claim\": \"Grease had bad reviews.\", \"evidence\": [[[133128, null, null, null]]]}\n",
    "    {\"id\": 163803, \"verifiable\": \"VERIFIABLE\", \"label\": \"SUPPORTS\", \"claim\": \"Ukrainian Soviet Socialist Republic was a founding participant of the UN.\", \"evidence\": [[[296950, 288668, \"Ukrainian_Soviet_Socialist_Republic\", 7]], [[298602, 290067, \"Ukrainian_Soviet_Socialist_Republic\", 7], [298602, 290067, \"United_Nations\", 0]], [[300696, 291816, \"Ukrainian_Soviet_Socialist_Republic\", 7]], [[344347, 327887, \"Ukrainian_Soviet_Socialist_Republic\", 7]], [[344994, 328433, \"Ukrainian_Soviet_Socialist_Republic\", 7]], [[344997, 328435, \"Ukrainian_Soviet_Socialist_Republic\", 7]]]}\n",
    "    {\"id\": 70041, \"verifiable\": \"VERIFIABLE\", \"label\": \"SUPPORTS\", \"claim\": \"2 Hearts is a musical composition by Minogue.\", \"evidence\": [[[225394, 230056, \"2_Hearts_-LRB-Kylie_Minogue_song-RRB-\", 0]], [[317953, 306972, \"2_Hearts_-LRB-Kylie_Minogue_song-RRB-\", 0]], [[319638, 308345, \"2_Hearts_-LRB-Kylie_Minogue_song-RRB-\", 0]], [[319643, 308348, \"2_Hearts_-LRB-Kylie_Minogue_song-RRB-\", 0]]]}\n",
    "    {\"id\": 202314, \"verifiable\": \"VERIFIABLE\", \"label\": \"REFUTES\", \"claim\": \"The New Jersey Turnpike has zero shoulders.\", \"evidence\": [[[238335, 240393, \"New_Jersey_Turnpike\", 15]]]}\n",
    "    \"\"\"\n",
    "\n",
    "\n",
    "    global index\n",
    "    claim = df.iloc[index]['claim']\n",
    "    documents = df.iloc[index]['full_text']\n",
    "    documents = documents.split('\\n')\n",
    "    label = df.iloc[index]['label']\n",
    "    keywords = extract_keywords(claim)  # Extract keywords from the claim\n",
    "    evidence_items = df.iloc[index]['evidence_sentences']\n",
    "\n",
    "    if debug:\n",
    "      print(f\"DEBUG 1.1.1:\")\n",
    "      print(f\"Evidence items: {evidence_items}\")\n",
    "    # Evidence items are in the format (sentence, page_title, sentence_id, entities[entity1, entity2, ...])\n",
    "    '''\n",
    "    [('Despite their San Francisco Bay Area origins , they played in a Southern rock style , with lyrics about bayous , catfish , the Mississippi River , and other popular elements of Southern United States iconography , as well as political and socially-conscious lyrics about topics including the Vietnam War .', 'Creedence_Clearwater_Revival', 3, ['Vietnam War', 'Southern rock', 'San Francisco Bay Area', 'Opposition to United States involvement in the Vietnam War', 'rock', 'Mississippi River', 'rock music']), ('Creedence Clearwater Revival , often informally abbreviated to Creedence or CCR , was an American rock band active in the late 1960s and early 1970s .', 'Creedence_Clearwater_Revival', 0, ['rock', 'rock music']), ('Their musical style encompassed the roots rock , swamp rock , and blues rock genres .', 'Creedence_Clearwater_Revival', 2, ['roots rock', 'rock', 'blues rock', 'rock music', 'swamp rock'])]\n",
    "    '''\n",
    "    index += 1\n",
    "    # Return essential information (we only need the documents, keywords, entities, claim, and label for the NOT ENOUGH INFO case, since we don't need to extract evidence sentences)\n",
    "    if label == \"NOT ENOUGH INFO\":\n",
    "        evidence_items = []\n",
    "        entities = extract_entities(claim)  # Extract entities from the claim\n",
    "        if verbose == 1:\n",
    "          print(f\"-------------------------------------------------------------\")\n",
    "          print(f\"In get_test_claim, running in {mode} mode...\")\n",
    "          print(f\"Claim: {claim}\")\n",
    "          print(f\"Label: {label}\")\n",
    "          print(f\"Evidence items: {evidence_items}\")\n",
    "          print(f\"Documents: {documents}\")\n",
    "          print(f\"Entities: {entities}\")\n",
    "          print(f\"Keywords: {keywords}\")\n",
    "          print(f\"-------------------------------------------------------------\")\n",
    "        return claim, label, evidence_items, documents, keywords, entities\n",
    "\n",
    "    entities = []\n",
    "    # Use ast.literal_eval to convert the string representation of the list to an actual list\n",
    "    evidence_items = ast.literal_eval(evidence_items)\n",
    "    # Extract entities from the evidence items\n",
    "    for item in evidence_items:\n",
    "        entities.extend(item[3])\n",
    "        if debug:\n",
    "          print(f\"DEBUG 1.1.2:\")\n",
    "          print(f\"\\tEvidence item: {item}\")\n",
    "          print(f\"\\tEntities: {item[3]}\")\n",
    "          print(\"-_-_-_-_-_-_-_-_-_-_-_-_-_-\")\n",
    "    # Remove duplicates\n",
    "    entities = list(set(entities))\n",
    "    # Remove empty strings\n",
    "    entities = [entity for entity in entities if entity]\n",
    "\n",
    "    if verbose == 1:\n",
    "        print(f\"-------------------------------------------------------------\")\n",
    "        print(f\"In get_test_claim, running in {mode} mode...\")\n",
    "        print(f\"Claim: {claim}\")\n",
    "        print(f\"Label: {label}\")\n",
    "        print(f\"Evidence items: {evidence_items}\")\n",
    "        print(f\"Documents: {documents}\")\n",
    "        print(f\"Entities: {entities}\")\n",
    "        print(f\"Keywords: {keywords}\")\n",
    "        print(f\"-------------------------------------------------------------\")\n",
    "\n",
    "\n",
    "    return claim, label, evidence_items, documents, keywords, entities"
   ]
  },
  {
   "cell_type": "code",
   "execution_count": null,
   "metadata": {
    "colab": {
     "base_uri": "https://localhost:8080/"
    },
    "executionInfo": {
     "elapsed": 1009,
     "status": "ok",
     "timestamp": 1743832972149,
     "user": {
      "displayName": "Henry Zelenak",
      "userId": "01809909909045225068"
     },
     "user_tz": 240
    },
    "id": "FJ6Azxe8MHBB",
    "outputId": "7e238feb-a128-4173-f01d-971a13ba9143"
   },
   "outputs": [
    {
     "name": "stdout",
     "output_type": "stream",
     "text": [
      "DEBUG 1.1.1:\n",
      "Evidence items: Peter Joseph Brennan (May 24, 1 – October 2, 1996) was an American labor activist and politician who served as United States Secretary of Labor from February 2, 1973, until March 15, 1975, in the administrations of Presidents Nixon and Ford.\n",
      "After organizing a demonstration in support of the Nixon administration that turned into the Hard Hat Riot of May 8, 1970, where construction workers violently attacked student anti-war protesters, Brennan was wooed by the Nixon administration as a potential supporter in the 1 presidential election.\n",
      "His work for Nixon in that election was crucial in increasing the vote for Nixon in New York and in the union movement.\n",
      "He was a strong opponent of affirmative action measures to increase the number of minority construction workers.\n",
      "Brennan had previously been the president of both the Building and Construction Trades Council of Greater New York and the Building and Construction Trades Council of New York, and he returned to the former position after leaving the Ford administration.\n",
      "-------------------------------------------------------------\n",
      "In get_test_claim, running in test mode...\n",
      "Claim: Finding Dory was written by Andrew Stanton and it is a film.\n",
      "Label: NOT ENOUGH INFO\n",
      "Evidence items: []\n",
      "Documents: ['Peter Joseph Brennan (May 24, 1 – October 2, 1996) was an American labor activist and politician who served as United States Secretary of Labor from February 2, 1973, until March 15, 1975, in the administrations of Presidents Nixon and Ford. Brennan had previously been the president of both the Building and Construction Trades Council of Greater New York and the Building and Construction Trades Council of New York, and he returned to the former position after leaving the Ford administration. He was a strong opponent of affirmative action measures to increase the number of minority construction workers. After organizing a demonstration in support of the Nixon administration that turned into the Hard Hat Riot of May 8, 1970, where construction workers violently attacked student anti-war protesters, Brennan was wooed by the Nixon administration as a potential supporter in the 1 presidential election. His work for Nixon in that election was crucial in increasing the vote for Nixon in New York and in the union movement.']\n",
      "Entities: ['Dory', 'Andrew Stanton']\n",
      "Keywords: ['dory', 'film', 'finding', 'stanton', 'written']\n",
      "-------------------------------------------------------------\n",
      "DEBUG 2.1.1:\n",
      "\tNumber of documents: 1\n",
      "\tMax iterations: 1\n",
      "-_-_-_-_-_-_-_-_-_-_-_-_-_-_-_-_-_-_-_-_-_-\n",
      "DEBUG 2.1.2:\n",
      "\tClaim: Finding Dory was written by Andrew Stanton and it is a film.\n",
      "\tEntities: Dory, Andrew Stanton\n",
      "\tKeywords: ['dory', 'film', 'finding', 'stanton', 'written']\n",
      "-_-_-_-_-_-_-_-_-_-_-_-_-_-_-_-_-_-_-_-_-_-\n",
      "DEBUG 2.3.1:\n",
      "\tFiltered text: Peter Joseph Brennan (May 24, 1 – October 2, 1996) was an American labor activist and politician who served as United States Secretary of Labor from February 2, 1973, until March 15, 1975, in the administrations of Presidents Nixon and Ford. Brennan had previously been the president of both the Building and Construction Trades Council of Greater New York and the Building and Construction Trades Council of New York, and he returned to the former position after leaving the Ford administration. He was a strong opponent of affirmative action measures to increase the number of minority construction workers. After organizing a demonstration in support of the Nixon administration that turned into the Hard Hat Riot of May 8, 1970, where construction workers violently attacked student anti-war protesters, Brennan was wooed by the Nixon administration as a potential supporter in the 1 presidential election. His work for Nixon in that election was crucial in increasing the vote for Nixon in New York and in the union movement.\n",
      "-_-_-_-_-_-_-_-_-_-_-_-_-_-_-_-_-_-_-_-_-_-\n",
      "DEBUG 2.3.2:\n",
      "\tPrompt: Retrieve sentences from the list that either support or refute the following claim. Specifically, focus on sentences mentioning Dory, Andrew Stanton or ['dory', 'film', 'finding', 'stanton', 'written']. Order the sentences by relevance, highest first, and return a list separated by the return character. If there are no relevant sentences, respond with 'NOT ENOUGH INFO'. DO NOT CREATE ANY SENTENCES THAT ARE NOT IN THE PROVIDED LIST, AND DO NOT TRUNCATE THE SENTENCE.\n",
      "\tFiltered text: Peter Joseph Brennan (May 24, 1 – October 2, 1996) was an American labor activist and politician who served as United States Secretary of Labor from February 2, 1973, until March 15, 1975, in the administrations of Presidents Nixon and Ford. Brennan had previously been the president of both the Building and Construction Trades Council of Greater New York and the Building and Construction Trades Council of New York, and he returned to the former position after leaving the Ford administration. He was a strong opponent of affirmative action measures to increase the number of minority construction workers. After organizing a demonstration in support of the Nixon administration that turned into the Hard Hat Riot of May 8, 1970, where construction workers violently attacked student anti-war protesters, Brennan was wooed by the Nixon administration as a potential supporter in the 1 presidential election. His work for Nixon in that election was crucial in increasing the vote for Nixon in New York and in the union movement.\n",
      "-_-_-_-_-_-_-_-_-_-_-_-_-_-_-_-_-_-_-_-_-_-\n",
      "DEBUG 2.3.3:\n",
      "\tNumber of retrieved sentences on iteration 0: 1\n",
      "\tNew sentences: ['NOT ENOUGH INFO']\n",
      "-_-_-_-_-_-_-_-_-_-_-_-_-_-_-_-_-_-_-_-_-_-\n",
      "2.3: LLM claims to find NOT ENOUGH INFO on first iteration and ONLY 1 ITERATION POSSIBLE, EARLY EXITING...\n",
      "-------------------------------------------------------------\n",
      "Extracted evidence: []\n",
      "Status: NOT ENOUGH INFO\n",
      "Status is NOT ENOUGH INFO, no evidence references found.\n",
      "Gold evidence: []\n",
      "Predicted evidence: []\n"
     ]
    }
   ],
   "source": [
    "#claim, documents_text, label = generate_claim_tab_data(valid_sentEx)  # Generate a claim and its associated documents for tabular data\n",
    "verbose = 1\n",
    "claim, label, evidence_items, documents_text, keywords, entities = get_test_claim(valid_sentEx, mode='test', verbose=1, debug=True)\n",
    "\n",
    "# Convert documents to list of strings if it's a single string\n",
    "if isinstance(documents_text, str):\n",
    "    documents = documents_text.split('\\n')\n",
    "elif isinstance(documents_text, list):\n",
    "  documents = documents_text\n",
    "else:\n",
    "  raise Exception(f\"documents must be a list of strings, not {type(documents_text)}\")\n",
    "\n",
    "sim_thresh = 0.1\n",
    "extracted_evidence, status = module_2_2_controls(claim, documents, entities, keywords, sim_thresh, verbose=1, debug=True)\n",
    "\n",
    "print(f\"Extracted evidence: {extracted_evidence}\")\n",
    "print(f\"Status: {status}\")\n",
    "\n",
    "# Match the evidence references with the extracted evidence\n",
    "gold_evidence = []\n",
    "for item in evidence_items:\n",
    "    gold_evidence.append([None, None, item[1], item[2]])\n",
    "predicted_evidence = []\n",
    "extracted_evidence = list(set(extracted_evidence))\n",
    "if status == \"OK\":\n",
    "  # Check if the extracted evidence is not empty\n",
    "  if extracted_evidence:\n",
    "    # Iterate through the extracted evidence and evidence items\n",
    "    for sentence in extracted_evidence:\n",
    "        for item in evidence_items:\n",
    "            if near_match(sentence, item[0], threshold=0.8, verbose=1):\n",
    "                predicted_evidence.append([item[1], item[2]])\n",
    "                if verbose == 1:\n",
    "                    print(f\"Evidence item matches extracted evidence.\")\n",
    "                break\n",
    "            else:\n",
    "                #if verbose == 1:\n",
    "                    #print(f\"Evidence item '{item[0]}' does not match extracted evidence '{sentence}'\")\n",
    "                continue\n",
    "  else:\n",
    "    print(f\"No extracted evidence found, despite status OK.\")\n",
    "else:\n",
    "  print(f\"Status is NOT ENOUGH INFO, no evidence references found.\")\n",
    "  predicted_evidence = []\n",
    "\n",
    "if verbose == 1:\n",
    "    print(f\"Gold evidence: {gold_evidence}\")\n",
    "    print(f\"Predicted evidence: {predicted_evidence}\")"
   ]
  },
  {
   "cell_type": "markdown",
   "metadata": {
    "id": "vwibQYZZXRo-"
   },
   "source": [
    "## 5. Module 3\n",
    "<a id=\"5\"></a>"
   ]
  },
  {
   "cell_type": "code",
   "execution_count": null,
   "metadata": {
    "id": "NVFtWFXWTM2f"
   },
   "outputs": [],
   "source": [
    "client_FC = OpenAI(api_key=api_key)\n",
    "from tqdm import tqdm\n",
    "tqdm.pandas()\n",
    "\n",
    "def module_3_classification(claim, extracted_evidence, verbose=0, debug=False):\n",
    "    \"\"\"\n",
    "    Module 3: Classification of the claim based on extracted evidence.\n",
    "\n",
    "    Args:\n",
    "        claim (str): The input claim.\n",
    "        documents (list of str): List of retrieved documents (full text).\n",
    "        entities (list of str): The main entity in the claim (or None if not found).\n",
    "        keywords (list of str): Top keywords from the claim.\n",
    "        extracted_evidence (list of str): Extracted evidence sentences.\n",
    "\n",
    "    Returns:\n",
    "        tuple: (str, str): The classification result (\"SUPPORTS\", \"REFUTES\", or \"NOT ENOUGH INFO\") and the exit status.\n",
    "    \"\"\"\n",
    "\n",
    "    # 3.1 Prompts\n",
    "    prompt = f\"Classify the following claim as SUPPORTS, REFUTES, or NOT ENOUGH INFO based on the extracted evidence:\\n'{claim}'.\\\\nUse the following evidence: {extracted_evidence}.\\n\\nIf the claim is true, respond with SUPPORTS. If the claim is false, respond with REFUTES. If there is not enough information to determine the truth value of the claim, respond with NOT ENOUGH INFO.\\n\\nDO NOT RESPOND WITH ANYTHING OTHER THAN THE CLASSIFICATION RESULT.\"\n",
    "\n",
    "    # 3.2 Classification\n",
    "    response = client_FC.chat.completions.create(\n",
    "        model=\"gpt-4o-mini-2024-07-18\",\n",
    "        messages=[\n",
    "            {\"role\": \"system\", \"content\": \"You are a helpful assistant that classifies claims.\"},\n",
    "            {\"role\": \"user\", \"content\": prompt},\n",
    "        ],\n",
    "        max_tokens=1024,\n",
    "        n=1,\n",
    "        stop=None,\n",
    "        temperature=0.9,\n",
    "    )\n",
    "    classification_result = response.choices[0].message.content.strip()\n",
    "\n",
    "    if debug:\n",
    "      print(f\"DEBUG 3.2.1:\")\n",
    "      print(f\"\\tClassification result: {classification_result}\")\n",
    "      print(\"-_-_-_-_-_-_-_-_-_-_-_-_-_-\")\n",
    "    # 3.3 Exit Status\n",
    "    if classification_result == \"NOT ENOUGH INFO\":\n",
    "        exit_status = \"NOT ENOUGH INFO\"\n",
    "    else:\n",
    "        exit_status = \"OK\"\n",
    "    if debug:\n",
    "      print(f\"DEBUG 3.3.1:\")\n",
    "      print(f\"\\tExit status: {exit_status}\")\n",
    "      print(\"-_-_-_-_-_-_-_-_-_-_-_-\")\n",
    "      print(f\"-------------------------------------------------------------\")\n",
    "    return classification_result, exit_status, prompt\n"
   ]
  },
  {
   "cell_type": "markdown",
   "metadata": {
    "id": "DJiDbxvnTNp_"
   },
   "source": [
    "## 6. Module 0\n",
    "\n",
    "### System Control\n",
    "<a id=\"6\"></a>"
   ]
  },
  {
   "cell_type": "code",
   "execution_count": null,
   "metadata": {
    "id": "k0pPVf11MFNX"
   },
   "outputs": [],
   "source": [
    "'''\n",
    "For eventual \"live\" testing of the system:\n",
    "\n",
    "    if mode == 'live':\n",
    "        # Generate a query and retrieve documents from Wikipedia\n",
    "        documents = retrieve_documents_from_wikipedia(claim, keywords, entities, debug=debug)\n",
    "        if debug:\n",
    "          print(f\"DEBUG 1.2.3, Live mode:\")\n",
    "          print(f\"\\tDocuments: {documents}\")\n",
    "          print(\"-_-_-_-_-_-_-_-_-_-_-_-_-\")\n",
    "\n",
    "    elif mode == 'test':\n",
    "        # Use the documents from the df\n",
    "        if debug:\n",
    "          print(f\"DEBUG 1.2.4, Test mode:\")\n",
    "          print(f\"\\tDocuments: {documents}\")\n",
    "          print(\"-_-_-_-_-_-_-_-_-_-_-_-_-\")\n",
    "'''"
   ]
  },
  {
   "cell_type": "markdown",
   "metadata": {
    "id": "V2956v-PWJi8"
   },
   "source": [
    "### 6.1 Helper functions (Module 1 simulation plus near_match function) )"
   ]
  },
  {
   "cell_type": "code",
   "execution_count": null,
   "metadata": {
    "id": "WeN05C_jWO9G"
   },
   "outputs": [],
   "source": [
    "# Quick near-match function for FEVER gold sentence matching to sentence ID and page title-agnostic output sentences\n",
    "def near_match(a, b, threshold=0.8, verbose=0):\n",
    "  \"\"\"\n",
    "  Checks if two strings are similar based on a threshold.\n",
    "\n",
    "  Args:\n",
    "      a (str): The first string.\n",
    "      b (str): The second string.\n",
    "      threshold (float): The similarity threshold.\n",
    "\n",
    "  Returns:\n",
    "      bool: True if the strings are similar, False otherwise.\n",
    "  \"\"\"\n",
    "  sim = len(set(a.split()).intersection(set(b.split()))) / max(len(a.split()), len(b.split())) >= threshold\n",
    "  if verbose == 1:\n",
    "      print(f\"Comparing '{a}' with '{b}'\\n\\tat {threshold}Similarity = {sim}\")\n",
    "  return sim\n",
    "\n",
    "\n",
    "index = 0\n",
    "def get_test_claim(df, mode, verbose=0, debug=False, return_report=False):\n",
    "    \"\"\"\n",
    "    In \"test\" mode, gets data for a claim by matching a row in the df (which contains the claim and the wikipedia text data) to the JSONL object\n",
    "    (which contains the claim and the evidence references) by the claim, returning the claim, label, evidence sentences, documents, and evidence references.\n",
    "\n",
    "    In 'live' mode, gets data for a claim by generating a query and retrieving documents from Wikipedia. THIS MODE IS NOT COMPATIBLE WITH FEVER SCORING.\n",
    "\n",
    "    EXAMPLE:\n",
    "    {\"id\": 113501, \"verifiable\": \"NOT VERIFIABLE\", \"label\": \"NOT ENOUGH INFO\", \"claim\": \"Grease had bad reviews.\", \"evidence\": [[[133128, null, null, null]]]}\n",
    "    {\"id\": 163803, \"verifiable\": \"VERIFIABLE\", \"label\": \"SUPPORTS\", \"claim\": \"Ukrainian Soviet Socialist Republic was a founding participant of the UN.\", \"evidence\": [[[296950, 288668, \"Ukrainian_Soviet_Socialist_Republic\", 7]], [[298602, 290067, \"Ukrainian_Soviet_Socialist_Republic\", 7], [298602, 290067, \"United_Nations\", 0]], [[300696, 291816, \"Ukrainian_Soviet_Socialist_Republic\", 7]], [[344347, 327887, \"Ukrainian_Soviet_Socialist_Republic\", 7]], [[344994, 328433, \"Ukrainian_Soviet_Socialist_Republic\", 7]], [[344997, 328435, \"Ukrainian_Soviet_Socialist_Republic\", 7]]]}\n",
    "    {\"id\": 70041, \"verifiable\": \"VERIFIABLE\", \"label\": \"SUPPORTS\", \"claim\": \"2 Hearts is a musical composition by Minogue.\", \"evidence\": [[[225394, 230056, \"2_Hearts_-LRB-Kylie_Minogue_song-RRB-\", 0]], [[317953, 306972, \"2_Hearts_-LRB-Kylie_Minogue_song-RRB-\", 0]], [[319638, 308345, \"2_Hearts_-LRB-Kylie_Minogue_song-RRB-\", 0]], [[319643, 308348, \"2_Hearts_-LRB-Kylie_Minogue_song-RRB-\", 0]]]}\n",
    "    {\"id\": 202314, \"verifiable\": \"VERIFIABLE\", \"label\": \"REFUTES\", \"claim\": \"The New Jersey Turnpike has zero shoulders.\", \"evidence\": [[[238335, 240393, \"New_Jersey_Turnpike\", 15]]]}\n",
    "    \"\"\"\n",
    "    report = pd.DataFrame(columns=['claim', 'label', 'evidence_items', 'documents', 'keywords', 'entities'])\n",
    "\n",
    "    global index\n",
    "    claim = df.iloc[index]['claim']\n",
    "    documents = df.iloc[index]['full_text']\n",
    "    documents = documents.split('\\n')\n",
    "    label = df.iloc[index]['label']\n",
    "    keywords = extract_keywords(claim)  # Extract keywords from the claim\n",
    "    evidence_items = df.iloc[index]['evidence_sentences']\n",
    "    id = df.iloc[index]['id']\n",
    "\n",
    "    if debug:\n",
    "      print(f\"DEBUG 1.1.1:\")\n",
    "      print(f\"Evidence items: {evidence_items}\")\n",
    "    # Evidence items are in the format (sentence, page_title, sentence_id, entities[entity1, entity2, ...])\n",
    "    '''\n",
    "    [('Despite their San Francisco Bay Area origins , they played in a Southern rock style , with lyrics about bayous , catfish , the Mississippi River , and other popular elements of Southern United States iconography , as well as political and socially-conscious lyrics about topics including the Vietnam War .', 'Creedence_Clearwater_Revival', 3, ['Vietnam War', 'Southern rock', 'San Francisco Bay Area', 'Opposition to United States involvement in the Vietnam War', 'rock', 'Mississippi River', 'rock music']), ('Creedence Clearwater Revival , often informally abbreviated to Creedence or CCR , was an American rock band active in the late 1960s and early 1970s .', 'Creedence_Clearwater_Revival', 0, ['rock', 'rock music']), ('Their musical style encompassed the roots rock , swamp rock , and blues rock genres .', 'Creedence_Clearwater_Revival', 2, ['roots rock', 'rock', 'blues rock', 'rock music', 'swamp rock'])]\n",
    "    '''\n",
    "    index += 1\n",
    "    # Return essential information (we only need the documents, keywords, entities, claim, and label for the NOT ENOUGH INFO case, since we don't need to extract evidence sentences)\n",
    "    if label == \"NOT ENOUGH INFO\":\n",
    "        evidence_items = []\n",
    "        entities = extract_entities(claim)  # Extract entities from the claim\n",
    "        if verbose == 1:\n",
    "          print(f\"-------------------------------------------------------------\")\n",
    "          print(f\"In get_test_claim, running in {mode} mode...\")\n",
    "          print(f\"Claim: {claim}\")\n",
    "          print(f\"Label: {label}\")\n",
    "          print(f\"Evidence items: {evidence_items}\")\n",
    "          print(f\"Documents: {documents}\")\n",
    "          print(f\"Entities: {entities}\")\n",
    "          print(f\"Keywords: {keywords}\")\n",
    "          print(f\"-------------------------------------------------------------\")\n",
    "        return claim, label, evidence_items, documents, keywords, entities, id\n",
    "\n",
    "    entities = []\n",
    "    # Use ast.literal_eval to convert the string representation of the list to an actual list\n",
    "    evidence_items = ast.literal_eval(evidence_items)\n",
    "    # Extract entities from the evidence items\n",
    "    for item in evidence_items:\n",
    "        entities.extend(item[3])\n",
    "        if debug:\n",
    "          print(f\"DEBUG 1.1.2:\")\n",
    "          print(f\"\\tEvidence item: {item}\")\n",
    "          print(f\"\\tEntities: {item[3]}\")\n",
    "          print(\"-_-_-_-_-_-_-_-_-_-_-_-_-_-\")\n",
    "    # Remove duplicates\n",
    "    entities = list(set(entities))\n",
    "    # Remove empty strings\n",
    "    entities = [entity for entity in entities if entity]\n",
    "\n",
    "    if verbose == 1:\n",
    "        print(f\"-------------------------------------------------------------\")\n",
    "        print(f\"In get_test_claim, running in {mode} mode...\")\n",
    "        print(f\"Claim: {claim}\")\n",
    "        print(f\"Label: {label}\")\n",
    "        print(f\"Evidence items: {evidence_items}\")\n",
    "        print(f\"Documents: {documents}\")\n",
    "        print(f\"Entities: {entities}\")\n",
    "        print(f\"Keywords: {keywords}\")\n",
    "        print(f\"-------------------------------------------------------------\")\n",
    "\n",
    "\n",
    "    return claim, label, evidence_items, documents, keywords, entities, id"
   ]
  },
  {
   "cell_type": "markdown",
   "metadata": {
    "id": "g5yOZKA-X8x_"
   },
   "source": [
    "### 6.2 System Control"
   ]
  },
  {
   "cell_type": "code",
   "execution_count": null,
   "metadata": {
    "id": "C9CTEPmiXRo-"
   },
   "outputs": [],
   "source": [
    "# Essentially, encompass the test cell's code in a loop, plus a call to gpt-4o-mini-2024-07-18 to classify the claim as SUPPORTS or REFUTES based on the evidence\n",
    "\n",
    "# Call the module_3_classification function in a loop to build up a test set\n",
    "def module_0_sys_control(test_size, verbose=0, debug=False):\n",
    "  if verbose == 1:\n",
    "    print(f\"-------------------------------------------------------------\")\n",
    "    print(f\"In module_3_control, running in test mode...\")\n",
    "    print(f\"-------------------------------------------------------------\")\n",
    "  pred_set = []\n",
    "  run_report = pd.DataFrame(columns=['id', 'claim', 'label', 'evidence_items', 'documents', 'keywords', 'entities', 'extracted_evidence', 'status', 'classification_result', 'exit_status', 'clf_prompt', 'predicted_evidence', 'gold_evidence', 'max_iterations', 'final_iteration', 'co_thresh', 'ro_thresh', 'sentEx_prompts'])\n",
    "\n",
    "  for i in tqdm(range(test_size)):\n",
    "      # Get the test claim\n",
    "      claim, label, evidence_items, documents_text, keywords, entities, id = get_test_claim(valid_sentEx, mode='test', verbose=0, debug=debug)\n",
    "\n",
    "      # Convert documents to list of strings if it's a single string\n",
    "      if isinstance(documents_text, str):\n",
    "          documents = documents_text.split('\\n')\n",
    "      elif isinstance(documents_text, list):\n",
    "        documents = documents_text\n",
    "      else:\n",
    "        raise Exception(f\"documents must be a list of strings, not {type(documents_text)}\")\n",
    "\n",
    "      co_thresh = 0.5\n",
    "      ro_thresh = 0.1\n",
    "      # Call Module 2 \n",
    "      # TODO: Log total number of tokens sent and received, respectively, for each instance of GPT-4o-mini-2024-07-18 (Used in 1.2 for query generation, 2.2 for evidence extraction and claim rephrasing, and 3.2 for classification)\n",
    "      extracted_evidence, status, mod_2_report = module_2_2_controls(claim, documents, entities, keywords, co_thresh, ro_thresh, verbose=0, debug=debug)\n",
    "      if verbose > 0:\n",
    "        print(f\"Claim: {claim}\")\n",
    "        print(f\"Extracted evidence: {extracted_evidence}\")\n",
    "        print(f\"Status: {status}\")\n",
    "\n",
    "      # Match the evidence references with the extracted evidence\n",
    "      gold_evidence = []\n",
    "      for item in evidence_items:\n",
    "          gold_evidence.append([None, None, item[1], item[2]])\n",
    "      predicted_evidence = []\n",
    "      extracted_evidence = set(extracted_evidence)\n",
    "      if status == \"OK\":\n",
    "        # Check if the extracted evidence is not empty\n",
    "        if extracted_evidence:\n",
    "          # Iterate through the extracted evidence and evidence items\n",
    "          for sentence in extracted_evidence:\n",
    "              for item in evidence_items:\n",
    "                  if near_match(sentence, item[0], threshold=0.7, verbose=0):\n",
    "                      predicted_evidence.append([item[1], item[2]])\n",
    "                      if verbose == 1:\n",
    "                          print(f\"Evidence item matches extracted evidence.\")\n",
    "                          print(\"----------------------------------\")\n",
    "                      break\n",
    "                  else:\n",
    "                      #if verbose == 1:\n",
    "                          #print(f\"Evidence item '{item[0]}' does not match extracted evidence '{sentence}'\")\n",
    "                      continue\n",
    "        else:\n",
    "          print(f\"No extracted evidence found, despite status OK.\")\n",
    "          print(\"----------------------------------\")\n",
    "      else:\n",
    "        predicted_evidence = []\n",
    "\n",
    "\n",
    "      # Call Module_3_classification function\n",
    "      classification_result, exit_status, prompt = module_3_classification(claim, extracted_evidence, verbose=0, debug=debug)\n",
    "      if debug:\n",
    "        print(f\"DEBUG 3.4.1:\")\n",
    "        print(f\"\\tClassification result: {classification_result}\")\n",
    "        print(\"-_-_-_-_-_-_-_-_-_-_-_-\")\n",
    "      # Append an object to the pred_set list with the label, predicted label, evidence, and predicted evidence\n",
    "      pred_set.append(\n",
    "          {\n",
    "              \"label\": label,\n",
    "              \"predicted_label\": classification_result,\n",
    "              \"predicted_evidence\": predicted_evidence,\n",
    "              \"evidence\": [gold_evidence],\n",
    "          }\n",
    "      )\n",
    "\n",
    "      if verbose == 1:\n",
    "        print(f\"Gold evidence: {gold_evidence}\")\n",
    "        print(f\"Predicted evidence: {predicted_evidence}\")\n",
    "        print(f\"Classification result: {classification_result}\")\n",
    "        print(\"#-------------------------------------------------------#\")\n",
    "\n",
    "      # Add the claim, label, evidence items, documents, keywords, entities, extracted evidence, status, classification result, exit status, predicted evidence, and gold evidence to the run_report DataFrame\n",
    "      # Must use iloc because append is deprecated\n",
    "      # Unpack the mod_2_report (its a dictionary)\n",
    "      run_report.loc[len(run_report)] = [\n",
    "          id,\n",
    "          claim,\n",
    "          label,\n",
    "          evidence_items,\n",
    "          documents_text,\n",
    "          keywords,\n",
    "          entities,\n",
    "          extracted_evidence,\n",
    "          status,\n",
    "          classification_result,\n",
    "          exit_status,\n",
    "          prompt,\n",
    "          predicted_evidence,\n",
    "          gold_evidence,\n",
    "          mod_2_report['max_iterations'],\n",
    "          mod_2_report['final_iteration'],\n",
    "          mod_2_report['co_thresh'],\n",
    "          mod_2_report['ro_thresh'],\n",
    "          mod_2_report['prompts']\n",
    "      ]\n",
    "\n",
    "  # Return the test set\n",
    "  return pred_set, run_report\n",
    "\n",
    "# Call the module_3_control function to generate a test set\n",
    "pred_set, report = module_0_sys_control(test_size=35, verbose=0, debug=False)\n",
    "\n",
    "# Get the FEVER score\n",
    "strict_score, label_accuracy, precision, recall, f1 = fever_score(pred_set)\n",
    "print(f\"\\nStrict score: {strict_score}\")\n",
    "print(f\"Label accuracy: {label_accuracy}\")\n",
    "print(f\"Precision: {precision}\")\n",
    "print(f\"Recall: {recall}\")\n",
    "print(f\"F1: {f1}\")\n",
    "print(f\"Number of test cases: {len(pred_set)}\")"
   ]
  },
  {
   "cell_type": "code",
   "execution_count": null,
   "metadata": {
    "colab": {
     "base_uri": "https://localhost:8080/"
    },
    "executionInfo": {
     "elapsed": 11,
     "status": "ok",
     "timestamp": 1743894543836,
     "user": {
      "displayName": "Henry Zelenak",
      "userId": "01809909909045225068"
     },
     "user_tz": 240
    },
    "id": "mkFMvgOQgrW6",
    "outputId": "c445b6c4-9424-47cc-e31a-f126a3f033f2"
   },
   "outputs": [
    {
     "name": "stdout",
     "output_type": "stream",
     "text": [
      "{'label': 'SUPPORTS', 'predicted_label': 'SUPPORTS', 'predicted_evidence': [], 'evidence': [[[None, None, 'Jamie_Murray', 1], [None, None, 'Jamie_Murray', 5]]]}\n",
      "{'label': 'REFUTES', 'predicted_label': 'REFUTES', 'predicted_evidence': [['Civilization_IV', 13], ['Civilization_IV', 0], ['Firaxis_Games', 0]], 'evidence': [[[None, None, 'Civilization_IV', 9], [None, None, 'Civilization_IV', 12], [None, None, 'List_of_Game_of_the_Year_awards', 0], [None, None, 'Firaxis_Games', 0], [None, None, 'Civilization_IV', 14], [None, None, 'Game_engine', 0], [None, None, 'Civilization_IV', 1], [None, None, 'Civilization_IV', 13], [None, None, 'Civilization_IV', 0]]]}\n",
      "{'label': 'NOT ENOUGH INFO', 'predicted_label': 'REFUTES', 'predicted_evidence': [], 'evidence': [[]]}\n",
      "{'label': 'SUPPORTS', 'predicted_label': 'REFUTES', 'predicted_evidence': [['The_Cry_of_the_Owl_-LRB-2009_film-RRB-', 0]], 'evidence': [[[None, None, 'The_Cry_of_the_Owl_-LRB-2009_film-RRB-', 0]]]}\n",
      "{'label': 'SUPPORTS', 'predicted_label': 'SUPPORTS', 'predicted_evidence': [['Patrick_Warburton', 0], ['Jim_Belushi', 0], ['Peter_Dinklage', 0]], 'evidence': [[[None, None, 'Adam_Rifkin', 0], [None, None, 'Brad_Garrett', 0], [None, None, 'Peter_Dinklage', 0], [None, None, 'Jason_Lee_-LRB-actor-RRB-', 0], [None, None, 'Jim_Belushi', 0], [None, None, 'Underdog_-LRB-film-RRB-', 1], [None, None, 'John_Slattery', 0], [None, None, 'Patrick_Warburton', 0]]]}\n",
      "{'label': 'NOT ENOUGH INFO', 'predicted_label': 'NOT ENOUGH INFO', 'predicted_evidence': [], 'evidence': [[]]}\n",
      "{'label': 'SUPPORTS', 'predicted_label': 'SUPPORTS', 'predicted_evidence': [['A_View_to_a_Kill', 6]], 'evidence': [[[None, None, 'A_View_to_a_Kill', 6]]]}\n",
      "{'label': 'SUPPORTS', 'predicted_label': 'SUPPORTS', 'predicted_evidence': [['Marco_Polo', 11]], 'evidence': [[[None, None, 'Marco_Polo', 11]]]}\n",
      "{'label': 'REFUTES', 'predicted_label': 'NOT ENOUGH INFO', 'predicted_evidence': [], 'evidence': [[[None, None, 'Michael_Vick', 0]]]}\n",
      "{'label': 'REFUTES', 'predicted_label': 'REFUTES', 'predicted_evidence': [['Beaverton,_Oregon', 1]], 'evidence': [[[None, None, 'Beaverton,_Oregon', 1]]]}\n",
      "{'label': 'SUPPORTS', 'predicted_label': 'SUPPORTS', 'predicted_evidence': [], 'evidence': [[[None, None, 'Valencia', 0]]]}\n",
      "{'label': 'REFUTES', 'predicted_label': 'NOT ENOUGH INFO', 'predicted_evidence': [], 'evidence': [[[None, None, 'Matteo_Renzi', 0], [None, None, 'Matteo_Renzi', 6], [None, None, 'Matteo_Renzi', 3], [None, None, 'Italian_constitutional_referendum,_2016', 4], [None, None, 'Matteo_Renzi', 1], [None, None, 'Matteo_Renzi', 7]]]}\n",
      "{'label': 'NOT ENOUGH INFO', 'predicted_label': 'NOT ENOUGH INFO', 'predicted_evidence': [], 'evidence': [[]]}\n",
      "{'label': 'REFUTES', 'predicted_label': 'NOT ENOUGH INFO', 'predicted_evidence': [], 'evidence': [[[None, None, 'Scotty_Moore', 0]]]}\n",
      "{'label': 'NOT ENOUGH INFO', 'predicted_label': 'NOT ENOUGH INFO', 'predicted_evidence': [], 'evidence': [[]]}\n",
      "{'label': 'REFUTES', 'predicted_label': 'REFUTES', 'predicted_evidence': [['Anne_Sullivan', 0]], 'evidence': [[[None, None, 'Anne_Sullivan', 0]]]}\n",
      "{'label': 'NOT ENOUGH INFO', 'predicted_label': 'NOT ENOUGH INFO', 'predicted_evidence': [], 'evidence': [[]]}\n",
      "{'label': 'REFUTES', 'predicted_label': 'REFUTES', 'predicted_evidence': [['Greek_language', 14], ['Greek_language', 11]], 'evidence': [[[None, None, 'Greek_language', 11], [None, None, 'Greek_language', 0], [None, None, 'Greek_language', 14]]]}\n",
      "{'label': 'REFUTES', 'predicted_label': 'REFUTES', 'predicted_evidence': [['Syracuse,_New_York', 2]], 'evidence': [[[None, None, 'Syracuse,_New_York', 2]]]}\n",
      "{'label': 'REFUTES', 'predicted_label': 'REFUTES', 'predicted_evidence': [], 'evidence': [[[None, None, 'Life', 0]]]}\n",
      "{'label': 'REFUTES', 'predicted_label': 'NOT ENOUGH INFO', 'predicted_evidence': [], 'evidence': [[[None, None, 'Gin', 3]]]}\n",
      "{'label': 'REFUTES', 'predicted_label': 'REFUTES', 'predicted_evidence': [['TV_Choice', 0], ['TV_Choice', 1]], 'evidence': [[[None, None, 'TV_Choice', 0], [None, None, 'TV_Choice', 1]]]}\n",
      "{'label': 'REFUTES', 'predicted_label': 'NOT ENOUGH INFO', 'predicted_evidence': [], 'evidence': [[[None, None, 'Rage_Against_the_Machine', 0]]]}\n",
      "{'label': 'REFUTES', 'predicted_label': 'NOT ENOUGH INFO', 'predicted_evidence': [], 'evidence': [[[None, None, 'Mel_B', 0]]]}\n",
      "{'label': 'SUPPORTS', 'predicted_label': 'SUPPORTS', 'predicted_evidence': [['Funeral_of_Diana,_Princess_of_Wales', 0], ['Diana,_Princess_of_Wales', 18], ['Diana,_Princess_of_Wales', 18], ['Funeral_of_Diana,_Princess_of_Wales', 0]], 'evidence': [[[None, None, 'Diana,_Princess_of_Wales', 18], [None, None, 'Funeral_of_Diana,_Princess_of_Wales', 0]]]}\n",
      "{'label': 'REFUTES', 'predicted_label': 'NOT ENOUGH INFO', 'predicted_evidence': [], 'evidence': [[[None, None, 'Dilwale_Dulhania_Le_Jayenge', 4]]]}\n",
      "{'label': 'NOT ENOUGH INFO', 'predicted_label': 'NOT ENOUGH INFO', 'predicted_evidence': [], 'evidence': [[]]}\n",
      "{'label': 'REFUTES', 'predicted_label': 'REFUTES', 'predicted_evidence': [['Queen_-LRB-band-RRB-', 0]], 'evidence': [[[None, None, 'Queen_-LRB-band-RRB-', 0]]]}\n",
      "{'label': 'REFUTES', 'predicted_label': 'NOT ENOUGH INFO', 'predicted_evidence': [], 'evidence': [[[None, None, 'Always_-LRB-1989_film-RRB-', 0]]]}\n",
      "{'label': 'NOT ENOUGH INFO', 'predicted_label': 'NOT ENOUGH INFO', 'predicted_evidence': [], 'evidence': [[]]}\n",
      "{'label': 'SUPPORTS', 'predicted_label': 'SUPPORTS', 'predicted_evidence': [['Starrcade', 0]], 'evidence': [[[None, None, 'Starrcade', 0]]]}\n",
      "{'label': 'SUPPORTS', 'predicted_label': 'SUPPORTS', 'predicted_evidence': [['Gray_Matter_Interactive', 0]], 'evidence': [[[None, None, 'Gray_Matter_Interactive', 0]]]}\n",
      "{'label': 'REFUTES', 'predicted_label': 'NOT ENOUGH INFO', 'predicted_evidence': [], 'evidence': [[[None, None, 'The_Electric_Lady', 0], [None, None, 'The_ArchAndroid', 0], [None, None, 'The_Audition_-LRB-album-RRB-', 0]]]}\n",
      "{'label': 'NOT ENOUGH INFO', 'predicted_label': 'NOT ENOUGH INFO', 'predicted_evidence': [], 'evidence': [[]]}\n",
      "{'label': 'REFUTES', 'predicted_label': 'NOT ENOUGH INFO', 'predicted_evidence': [], 'evidence': [[[None, None, 'Rupert_Murdoch', 3]]]}\n"
     ]
    }
   ],
   "source": [
    "for item in pred_set:\n",
    "    print(item)"
   ]
  },
  {
   "cell_type": "code",
   "execution_count": null,
   "metadata": {
    "colab": {
     "base_uri": "https://localhost:8080/",
     "height": 591
    },
    "executionInfo": {
     "elapsed": 74,
     "status": "ok",
     "timestamp": 1743896744022,
     "user": {
      "displayName": "Henry Zelenak",
      "userId": "01809909909045225068"
     },
     "user_tz": 240
    },
    "id": "JYGBE6ubjYYa",
    "outputId": "063b9cf8-5a94-4393-a016-efbbc52e3bd3"
   },
   "outputs": [
    {
     "data": {
      "application/vnd.google.colaboratory.intrinsic+json": {
       "summary": "{\n  \"name\": \"report\",\n  \"rows\": 35,\n  \"fields\": [\n    {\n      \"column\": \"id\",\n      \"properties\": {\n        \"dtype\": \"number\",\n        \"std\": 447,\n        \"min\": 37,\n        \"max\": 1464,\n        \"num_unique_values\": 35,\n        \"samples\": [\n          561,\n          436,\n          657\n        ],\n        \"semantic_type\": \"\",\n        \"description\": \"\"\n      }\n    },\n    {\n      \"column\": \"claim\",\n      \"properties\": {\n        \"dtype\": \"string\",\n        \"num_unique_values\": 35,\n        \"samples\": [\n          \"Microbiologists specialize in investigating noninfectious microorganisms.\",\n          \"Topman is part of a South African multinational retailing company.\",\n          \"Matteo Renzi is Jewish.\"\n        ],\n        \"semantic_type\": \"\",\n        \"description\": \"\"\n      }\n    },\n    {\n      \"column\": \"label\",\n      \"properties\": {\n        \"dtype\": \"category\",\n        \"num_unique_values\": 3,\n        \"samples\": [\n          \"NOT ENOUGH INFO\",\n          \"SUPPORTS\",\n          \"REFUTES\"\n        ],\n        \"semantic_type\": \"\",\n        \"description\": \"\"\n      }\n    },\n    {\n      \"column\": \"evidence_items\",\n      \"properties\": {\n        \"dtype\": \"object\",\n        \"semantic_type\": \"\",\n        \"description\": \"\"\n      }\n    },\n    {\n      \"column\": \"documents\",\n      \"properties\": {\n        \"dtype\": \"object\",\n        \"semantic_type\": \"\",\n        \"description\": \"\"\n      }\n    },\n    {\n      \"column\": \"keywords\",\n      \"properties\": {\n        \"dtype\": \"object\",\n        \"semantic_type\": \"\",\n        \"description\": \"\"\n      }\n    },\n    {\n      \"column\": \"entities\",\n      \"properties\": {\n        \"dtype\": \"object\",\n        \"semantic_type\": \"\",\n        \"description\": \"\"\n      }\n    },\n    {\n      \"column\": \"extracted_evidence\",\n      \"properties\": {\n        \"dtype\": \"object\",\n        \"semantic_type\": \"\",\n        \"description\": \"\"\n      }\n    },\n    {\n      \"column\": \"status\",\n      \"properties\": {\n        \"dtype\": \"category\",\n        \"num_unique_values\": 2,\n        \"samples\": [\n          \"OK\",\n          \"NOT ENOUGH INFO\"\n        ],\n        \"semantic_type\": \"\",\n        \"description\": \"\"\n      }\n    },\n    {\n      \"column\": \"classification_result\",\n      \"properties\": {\n        \"dtype\": \"category\",\n        \"num_unique_values\": 3,\n        \"samples\": [\n          \"NOT ENOUGH INFO\",\n          \"SUPPORTS\"\n        ],\n        \"semantic_type\": \"\",\n        \"description\": \"\"\n      }\n    },\n    {\n      \"column\": \"exit_status\",\n      \"properties\": {\n        \"dtype\": \"category\",\n        \"num_unique_values\": 2,\n        \"samples\": [\n          \"OK\",\n          \"NOT ENOUGH INFO\"\n        ],\n        \"semantic_type\": \"\",\n        \"description\": \"\"\n      }\n    },\n    {\n      \"column\": \"clf_prompt\",\n      \"properties\": {\n        \"dtype\": \"string\",\n        \"num_unique_values\": 35,\n        \"samples\": [\n          \"Classify the following claim as SUPPORTS, REFUTES, or NOT ENOUGH INFO based on the extracted evidence:\\n'Microbiologists specialize in investigating noninfectious microorganisms.'.\\\\nUse the following evidence: {'Because microbiologists specialize in the investigation of microorganisms that typically cause infection, their research commonly promotes information found in immunology, pathology, and molecular biology.', 'Most microbiologists specialize in environmental, food, agricultural, industrial or medical aspects of microbiology including: virology (the study of viruses); immunology (the study of mechanisms that fight infections); bioinformatics (the methods for storing, retrieving, organizing and analyzing biological data) and Bioremediation (using microbes as environmental mitigation strategies).  '}.\\n\\nIf the claim is true, respond with SUPPORTS. If the claim is false, respond with REFUTES. If there is not enough information to determine the truth value of the claim, respond with NOT ENOUGH INFO.\\n\\nDO NOT RESPOND WITH ANYTHING OTHER THAN THE CLASSIFICATION RESULT.\",\n          \"Classify the following claim as SUPPORTS, REFUTES, or NOT ENOUGH INFO based on the extracted evidence:\\n'Topman is part of a South African multinational retailing company.'.\\\\nUse the following evidence: set().\\n\\nIf the claim is true, respond with SUPPORTS. If the claim is false, respond with REFUTES. If there is not enough information to determine the truth value of the claim, respond with NOT ENOUGH INFO.\\n\\nDO NOT RESPOND WITH ANYTHING OTHER THAN THE CLASSIFICATION RESULT.\"\n        ],\n        \"semantic_type\": \"\",\n        \"description\": \"\"\n      }\n    },\n    {\n      \"column\": \"predicted_evidence\",\n      \"properties\": {\n        \"dtype\": \"object\",\n        \"semantic_type\": \"\",\n        \"description\": \"\"\n      }\n    },\n    {\n      \"column\": \"gold_evidence\",\n      \"properties\": {\n        \"dtype\": \"object\",\n        \"semantic_type\": \"\",\n        \"description\": \"\"\n      }\n    },\n    {\n      \"column\": \"max_iterations\",\n      \"properties\": {\n        \"dtype\": \"number\",\n        \"std\": 0,\n        \"min\": 1,\n        \"max\": 4,\n        \"num_unique_values\": 4,\n        \"samples\": [\n          2,\n          4\n        ],\n        \"semantic_type\": \"\",\n        \"description\": \"\"\n      }\n    },\n    {\n      \"column\": \"final_iteration\",\n      \"properties\": {\n        \"dtype\": \"number\",\n        \"std\": 0,\n        \"min\": 1,\n        \"max\": 2,\n        \"num_unique_values\": 2,\n        \"samples\": [\n          2,\n          1\n        ],\n        \"semantic_type\": \"\",\n        \"description\": \"\"\n      }\n    },\n    {\n      \"column\": \"co_thresh\",\n      \"properties\": {\n        \"dtype\": \"number\",\n        \"std\": 0.0,\n        \"min\": 0.5,\n        \"max\": 0.5,\n        \"num_unique_values\": 1,\n        \"samples\": [\n          0.5\n        ],\n        \"semantic_type\": \"\",\n        \"description\": \"\"\n      }\n    },\n    {\n      \"column\": \"ro_thresh\",\n      \"properties\": {\n        \"dtype\": \"number\",\n        \"std\": 4.2241181901982926e-17,\n        \"min\": 0.1,\n        \"max\": 0.1,\n        \"num_unique_values\": 1,\n        \"samples\": [\n          0.1\n        ],\n        \"semantic_type\": \"\",\n        \"description\": \"\"\n      }\n    },\n    {\n      \"column\": \"sentEx_prompts\",\n      \"properties\": {\n        \"dtype\": \"object\",\n        \"semantic_type\": \"\",\n        \"description\": \"\"\n      }\n    }\n  ]\n}",
       "type": "dataframe",
       "variable_name": "report"
      },
      "text/html": [
       "\n",
       "  <div id=\"df-e6442fc4-2641-43c5-809e-c87be2e83b95\" class=\"colab-df-container\">\n",
       "    <div>\n",
       "<style scoped>\n",
       "    .dataframe tbody tr th:only-of-type {\n",
       "        vertical-align: middle;\n",
       "    }\n",
       "\n",
       "    .dataframe tbody tr th {\n",
       "        vertical-align: top;\n",
       "    }\n",
       "\n",
       "    .dataframe thead th {\n",
       "        text-align: right;\n",
       "    }\n",
       "</style>\n",
       "<table border=\"1\" class=\"dataframe\">\n",
       "  <thead>\n",
       "    <tr style=\"text-align: right;\">\n",
       "      <th></th>\n",
       "      <th>id</th>\n",
       "      <th>claim</th>\n",
       "      <th>label</th>\n",
       "      <th>evidence_items</th>\n",
       "      <th>documents</th>\n",
       "      <th>keywords</th>\n",
       "      <th>entities</th>\n",
       "      <th>extracted_evidence</th>\n",
       "      <th>status</th>\n",
       "      <th>classification_result</th>\n",
       "      <th>exit_status</th>\n",
       "      <th>clf_prompt</th>\n",
       "      <th>predicted_evidence</th>\n",
       "      <th>gold_evidence</th>\n",
       "      <th>max_iterations</th>\n",
       "      <th>final_iteration</th>\n",
       "      <th>co_thresh</th>\n",
       "      <th>ro_thresh</th>\n",
       "      <th>sentEx_prompts</th>\n",
       "    </tr>\n",
       "  </thead>\n",
       "  <tbody>\n",
       "    <tr>\n",
       "      <th>0</th>\n",
       "      <td>141</td>\n",
       "      <td>Rage Against the Machine performed at concert ...</td>\n",
       "      <td>NOT ENOUGH INFO</td>\n",
       "      <td>[]</td>\n",
       "      <td>[The Rural Municipality of Lake Alma No. 8 (2 ...</td>\n",
       "      <td>[concert, halls, machine, performed, rage]</td>\n",
       "      <td>[Rage, Machine]</td>\n",
       "      <td>{}</td>\n",
       "      <td>NOT ENOUGH INFO</td>\n",
       "      <td>NOT ENOUGH INFO</td>\n",
       "      <td>NOT ENOUGH INFO</td>\n",
       "      <td>Classify the following claim as SUPPORTS, REFU...</td>\n",
       "      <td>[]</td>\n",
       "      <td>[]</td>\n",
       "      <td>1</td>\n",
       "      <td>1</td>\n",
       "      <td>0.5</td>\n",
       "      <td>0.1</td>\n",
       "      <td>[Retrieve sentences from the list that either ...</td>\n",
       "    </tr>\n",
       "    <tr>\n",
       "      <th>1</th>\n",
       "      <td>1259</td>\n",
       "      <td>Janet Leigh was a backup dancer.</td>\n",
       "      <td>NOT ENOUGH INFO</td>\n",
       "      <td>[]</td>\n",
       "      <td>[Pietermaritzburg (/ˌpiːtərˈmærɪtsbɜːrɡ/; Zulu...</td>\n",
       "      <td>[backup, dancer, janet, leigh]</td>\n",
       "      <td>[Janet, Leigh]</td>\n",
       "      <td>{}</td>\n",
       "      <td>NOT ENOUGH INFO</td>\n",
       "      <td>NOT ENOUGH INFO</td>\n",
       "      <td>NOT ENOUGH INFO</td>\n",
       "      <td>Classify the following claim as SUPPORTS, REFU...</td>\n",
       "      <td>[]</td>\n",
       "      <td>[]</td>\n",
       "      <td>1</td>\n",
       "      <td>1</td>\n",
       "      <td>0.5</td>\n",
       "      <td>0.1</td>\n",
       "      <td>[Retrieve sentences from the list that either ...</td>\n",
       "    </tr>\n",
       "    <tr>\n",
       "      <th>2</th>\n",
       "      <td>471</td>\n",
       "      <td>Aarhus is the seat of Aarhus municipality.</td>\n",
       "      <td>SUPPORTS</td>\n",
       "      <td>[[Aarhus -LRB- -LSB- ˈɒːhuːˀs -RSB- ; official...</td>\n",
       "      <td>[, Aarhus ( [ ˈɒːhuːˀs ] ; officially spelled ...</td>\n",
       "      <td>[municipality, seat, aarhus]</td>\n",
       "      <td>[Denmark, Aarhus, Aarhus municipality, Aarhus ...</td>\n",
       "      <td>{Aarhus is the second-largest city in Denmark ...</td>\n",
       "      <td>OK</td>\n",
       "      <td>SUPPORTS</td>\n",
       "      <td>OK</td>\n",
       "      <td>Classify the following claim as SUPPORTS, REFU...</td>\n",
       "      <td>[]</td>\n",
       "      <td>[[None, None, Aarhus, 0]]</td>\n",
       "      <td>2</td>\n",
       "      <td>2</td>\n",
       "      <td>0.5</td>\n",
       "      <td>0.1</td>\n",
       "      <td>[Retrieve sentences from the list that either ...</td>\n",
       "    </tr>\n",
       "    <tr>\n",
       "      <th>3</th>\n",
       "      <td>181</td>\n",
       "      <td>Swordfish (film) is a film that is about a per...</td>\n",
       "      <td>REFUTES</td>\n",
       "      <td>[[The film centers on Stanley Jobson , an ex-c...</td>\n",
       "      <td>[, Swordfish is a 2001 American action crime t...</td>\n",
       "      <td>[likes, person, swordfish, swordfishes, film]</td>\n",
       "      <td>[computer hacker, Hacker (computer security)]</td>\n",
       "      <td>{}</td>\n",
       "      <td>NOT ENOUGH INFO</td>\n",
       "      <td>NOT ENOUGH INFO</td>\n",
       "      <td>NOT ENOUGH INFO</td>\n",
       "      <td>Classify the following claim as SUPPORTS, REFU...</td>\n",
       "      <td>[]</td>\n",
       "      <td>[[None, None, Swordfish_-LRB-film-RRB-, 1]]</td>\n",
       "      <td>2</td>\n",
       "      <td>2</td>\n",
       "      <td>0.5</td>\n",
       "      <td>0.1</td>\n",
       "      <td>[Retrieve sentences from the list that either ...</td>\n",
       "    </tr>\n",
       "    <tr>\n",
       "      <th>4</th>\n",
       "      <td>1085</td>\n",
       "      <td>Ashley Graham is a plus-size model.</td>\n",
       "      <td>SUPPORTS</td>\n",
       "      <td>[[In 2017 , Graham became the first plus-size ...</td>\n",
       "      <td>[, Ashley Graham ( born October 30 , 1987 ) is...</td>\n",
       "      <td>[ashley, graham, model, plus, size]</td>\n",
       "      <td>[Model (person), Sports Illustrated Swimsuit I...</td>\n",
       "      <td>{In 2016 , she became the first plus-size mode...</td>\n",
       "      <td>OK</td>\n",
       "      <td>SUPPORTS</td>\n",
       "      <td>OK</td>\n",
       "      <td>Classify the following claim as SUPPORTS, REFU...</td>\n",
       "      <td>[[Ashley_Graham_-LRB-model-RRB-, 4], [Ashley_G...</td>\n",
       "      <td>[[None, None, Ashley_Graham_-LRB-model-RRB-, 6...</td>\n",
       "      <td>2</td>\n",
       "      <td>1</td>\n",
       "      <td>0.5</td>\n",
       "      <td>0.1</td>\n",
       "      <td>[Retrieve sentences from the list that either ...</td>\n",
       "    </tr>\n",
       "  </tbody>\n",
       "</table>\n",
       "</div>\n",
       "    <div class=\"colab-df-buttons\">\n",
       "\n",
       "  <div class=\"colab-df-container\">\n",
       "    <button class=\"colab-df-convert\" onclick=\"convertToInteractive('df-e6442fc4-2641-43c5-809e-c87be2e83b95')\"\n",
       "            title=\"Convert this dataframe to an interactive table.\"\n",
       "            style=\"display:none;\">\n",
       "\n",
       "  <svg xmlns=\"http://www.w3.org/2000/svg\" height=\"24px\" viewBox=\"0 -960 960 960\">\n",
       "    <path d=\"M120-120v-720h720v720H120Zm60-500h600v-160H180v160Zm220 220h160v-160H400v160Zm0 220h160v-160H400v160ZM180-400h160v-160H180v160Zm440 0h160v-160H620v160ZM180-180h160v-160H180v160Zm440 0h160v-160H620v160Z\"/>\n",
       "  </svg>\n",
       "    </button>\n",
       "\n",
       "  <style>\n",
       "    .colab-df-container {\n",
       "      display:flex;\n",
       "      gap: 12px;\n",
       "    }\n",
       "\n",
       "    .colab-df-convert {\n",
       "      background-color: #E8F0FE;\n",
       "      border: none;\n",
       "      border-radius: 50%;\n",
       "      cursor: pointer;\n",
       "      display: none;\n",
       "      fill: #1967D2;\n",
       "      height: 32px;\n",
       "      padding: 0 0 0 0;\n",
       "      width: 32px;\n",
       "    }\n",
       "\n",
       "    .colab-df-convert:hover {\n",
       "      background-color: #E2EBFA;\n",
       "      box-shadow: 0px 1px 2px rgba(60, 64, 67, 0.3), 0px 1px 3px 1px rgba(60, 64, 67, 0.15);\n",
       "      fill: #174EA6;\n",
       "    }\n",
       "\n",
       "    .colab-df-buttons div {\n",
       "      margin-bottom: 4px;\n",
       "    }\n",
       "\n",
       "    [theme=dark] .colab-df-convert {\n",
       "      background-color: #3B4455;\n",
       "      fill: #D2E3FC;\n",
       "    }\n",
       "\n",
       "    [theme=dark] .colab-df-convert:hover {\n",
       "      background-color: #434B5C;\n",
       "      box-shadow: 0px 1px 3px 1px rgba(0, 0, 0, 0.15);\n",
       "      filter: drop-shadow(0px 1px 2px rgba(0, 0, 0, 0.3));\n",
       "      fill: #FFFFFF;\n",
       "    }\n",
       "  </style>\n",
       "\n",
       "    <script>\n",
       "      const buttonEl =\n",
       "        document.querySelector('#df-e6442fc4-2641-43c5-809e-c87be2e83b95 button.colab-df-convert');\n",
       "      buttonEl.style.display =\n",
       "        google.colab.kernel.accessAllowed ? 'block' : 'none';\n",
       "\n",
       "      async function convertToInteractive(key) {\n",
       "        const element = document.querySelector('#df-e6442fc4-2641-43c5-809e-c87be2e83b95');\n",
       "        const dataTable =\n",
       "          await google.colab.kernel.invokeFunction('convertToInteractive',\n",
       "                                                    [key], {});\n",
       "        if (!dataTable) return;\n",
       "\n",
       "        const docLinkHtml = 'Like what you see? Visit the ' +\n",
       "          '<a target=\"_blank\" href=https://colab.research.google.com/notebooks/data_table.ipynb>data table notebook</a>'\n",
       "          + ' to learn more about interactive tables.';\n",
       "        element.innerHTML = '';\n",
       "        dataTable['output_type'] = 'display_data';\n",
       "        await google.colab.output.renderOutput(dataTable, element);\n",
       "        const docLink = document.createElement('div');\n",
       "        docLink.innerHTML = docLinkHtml;\n",
       "        element.appendChild(docLink);\n",
       "      }\n",
       "    </script>\n",
       "  </div>\n",
       "\n",
       "\n",
       "<div id=\"df-2960a968-68b0-4f57-aa71-57394aac88a3\">\n",
       "  <button class=\"colab-df-quickchart\" onclick=\"quickchart('df-2960a968-68b0-4f57-aa71-57394aac88a3')\"\n",
       "            title=\"Suggest charts\"\n",
       "            style=\"display:none;\">\n",
       "\n",
       "<svg xmlns=\"http://www.w3.org/2000/svg\" height=\"24px\"viewBox=\"0 0 24 24\"\n",
       "     width=\"24px\">\n",
       "    <g>\n",
       "        <path d=\"M19 3H5c-1.1 0-2 .9-2 2v14c0 1.1.9 2 2 2h14c1.1 0 2-.9 2-2V5c0-1.1-.9-2-2-2zM9 17H7v-7h2v7zm4 0h-2V7h2v10zm4 0h-2v-4h2v4z\"/>\n",
       "    </g>\n",
       "</svg>\n",
       "  </button>\n",
       "\n",
       "<style>\n",
       "  .colab-df-quickchart {\n",
       "      --bg-color: #E8F0FE;\n",
       "      --fill-color: #1967D2;\n",
       "      --hover-bg-color: #E2EBFA;\n",
       "      --hover-fill-color: #174EA6;\n",
       "      --disabled-fill-color: #AAA;\n",
       "      --disabled-bg-color: #DDD;\n",
       "  }\n",
       "\n",
       "  [theme=dark] .colab-df-quickchart {\n",
       "      --bg-color: #3B4455;\n",
       "      --fill-color: #D2E3FC;\n",
       "      --hover-bg-color: #434B5C;\n",
       "      --hover-fill-color: #FFFFFF;\n",
       "      --disabled-bg-color: #3B4455;\n",
       "      --disabled-fill-color: #666;\n",
       "  }\n",
       "\n",
       "  .colab-df-quickchart {\n",
       "    background-color: var(--bg-color);\n",
       "    border: none;\n",
       "    border-radius: 50%;\n",
       "    cursor: pointer;\n",
       "    display: none;\n",
       "    fill: var(--fill-color);\n",
       "    height: 32px;\n",
       "    padding: 0;\n",
       "    width: 32px;\n",
       "  }\n",
       "\n",
       "  .colab-df-quickchart:hover {\n",
       "    background-color: var(--hover-bg-color);\n",
       "    box-shadow: 0 1px 2px rgba(60, 64, 67, 0.3), 0 1px 3px 1px rgba(60, 64, 67, 0.15);\n",
       "    fill: var(--button-hover-fill-color);\n",
       "  }\n",
       "\n",
       "  .colab-df-quickchart-complete:disabled,\n",
       "  .colab-df-quickchart-complete:disabled:hover {\n",
       "    background-color: var(--disabled-bg-color);\n",
       "    fill: var(--disabled-fill-color);\n",
       "    box-shadow: none;\n",
       "  }\n",
       "\n",
       "  .colab-df-spinner {\n",
       "    border: 2px solid var(--fill-color);\n",
       "    border-color: transparent;\n",
       "    border-bottom-color: var(--fill-color);\n",
       "    animation:\n",
       "      spin 1s steps(1) infinite;\n",
       "  }\n",
       "\n",
       "  @keyframes spin {\n",
       "    0% {\n",
       "      border-color: transparent;\n",
       "      border-bottom-color: var(--fill-color);\n",
       "      border-left-color: var(--fill-color);\n",
       "    }\n",
       "    20% {\n",
       "      border-color: transparent;\n",
       "      border-left-color: var(--fill-color);\n",
       "      border-top-color: var(--fill-color);\n",
       "    }\n",
       "    30% {\n",
       "      border-color: transparent;\n",
       "      border-left-color: var(--fill-color);\n",
       "      border-top-color: var(--fill-color);\n",
       "      border-right-color: var(--fill-color);\n",
       "    }\n",
       "    40% {\n",
       "      border-color: transparent;\n",
       "      border-right-color: var(--fill-color);\n",
       "      border-top-color: var(--fill-color);\n",
       "    }\n",
       "    60% {\n",
       "      border-color: transparent;\n",
       "      border-right-color: var(--fill-color);\n",
       "    }\n",
       "    80% {\n",
       "      border-color: transparent;\n",
       "      border-right-color: var(--fill-color);\n",
       "      border-bottom-color: var(--fill-color);\n",
       "    }\n",
       "    90% {\n",
       "      border-color: transparent;\n",
       "      border-bottom-color: var(--fill-color);\n",
       "    }\n",
       "  }\n",
       "</style>\n",
       "\n",
       "  <script>\n",
       "    async function quickchart(key) {\n",
       "      const quickchartButtonEl =\n",
       "        document.querySelector('#' + key + ' button');\n",
       "      quickchartButtonEl.disabled = true;  // To prevent multiple clicks.\n",
       "      quickchartButtonEl.classList.add('colab-df-spinner');\n",
       "      try {\n",
       "        const charts = await google.colab.kernel.invokeFunction(\n",
       "            'suggestCharts', [key], {});\n",
       "      } catch (error) {\n",
       "        console.error('Error during call to suggestCharts:', error);\n",
       "      }\n",
       "      quickchartButtonEl.classList.remove('colab-df-spinner');\n",
       "      quickchartButtonEl.classList.add('colab-df-quickchart-complete');\n",
       "    }\n",
       "    (() => {\n",
       "      let quickchartButtonEl =\n",
       "        document.querySelector('#df-2960a968-68b0-4f57-aa71-57394aac88a3 button');\n",
       "      quickchartButtonEl.style.display =\n",
       "        google.colab.kernel.accessAllowed ? 'block' : 'none';\n",
       "    })();\n",
       "  </script>\n",
       "</div>\n",
       "\n",
       "    </div>\n",
       "  </div>\n"
      ],
      "text/plain": [
       "     id                                              claim            label  \\\n",
       "0   141  Rage Against the Machine performed at concert ...  NOT ENOUGH INFO   \n",
       "1  1259                   Janet Leigh was a backup dancer.  NOT ENOUGH INFO   \n",
       "2   471         Aarhus is the seat of Aarhus municipality.         SUPPORTS   \n",
       "3   181  Swordfish (film) is a film that is about a per...          REFUTES   \n",
       "4  1085                Ashley Graham is a plus-size model.         SUPPORTS   \n",
       "\n",
       "                                      evidence_items  \\\n",
       "0                                                 []   \n",
       "1                                                 []   \n",
       "2  [[Aarhus -LRB- -LSB- ˈɒːhuːˀs -RSB- ; official...   \n",
       "3  [[The film centers on Stanley Jobson , an ex-c...   \n",
       "4  [[In 2017 , Graham became the first plus-size ...   \n",
       "\n",
       "                                           documents  \\\n",
       "0  [The Rural Municipality of Lake Alma No. 8 (2 ...   \n",
       "1  [Pietermaritzburg (/ˌpiːtərˈmærɪtsbɜːrɡ/; Zulu...   \n",
       "2  [, Aarhus ( [ ˈɒːhuːˀs ] ; officially spelled ...   \n",
       "3  [, Swordfish is a 2001 American action crime t...   \n",
       "4  [, Ashley Graham ( born October 30 , 1987 ) is...   \n",
       "\n",
       "                                        keywords  \\\n",
       "0     [concert, halls, machine, performed, rage]   \n",
       "1                 [backup, dancer, janet, leigh]   \n",
       "2                   [municipality, seat, aarhus]   \n",
       "3  [likes, person, swordfish, swordfishes, film]   \n",
       "4            [ashley, graham, model, plus, size]   \n",
       "\n",
       "                                            entities  \\\n",
       "0                                    [Rage, Machine]   \n",
       "1                                     [Janet, Leigh]   \n",
       "2  [Denmark, Aarhus, Aarhus municipality, Aarhus ...   \n",
       "3      [computer hacker, Hacker (computer security)]   \n",
       "4  [Model (person), Sports Illustrated Swimsuit I...   \n",
       "\n",
       "                                  extracted_evidence           status  \\\n",
       "0                                                 {}  NOT ENOUGH INFO   \n",
       "1                                                 {}  NOT ENOUGH INFO   \n",
       "2  {Aarhus is the second-largest city in Denmark ...               OK   \n",
       "3                                                 {}  NOT ENOUGH INFO   \n",
       "4  {In 2016 , she became the first plus-size mode...               OK   \n",
       "\n",
       "  classification_result      exit_status  \\\n",
       "0       NOT ENOUGH INFO  NOT ENOUGH INFO   \n",
       "1       NOT ENOUGH INFO  NOT ENOUGH INFO   \n",
       "2              SUPPORTS               OK   \n",
       "3       NOT ENOUGH INFO  NOT ENOUGH INFO   \n",
       "4              SUPPORTS               OK   \n",
       "\n",
       "                                          clf_prompt  \\\n",
       "0  Classify the following claim as SUPPORTS, REFU...   \n",
       "1  Classify the following claim as SUPPORTS, REFU...   \n",
       "2  Classify the following claim as SUPPORTS, REFU...   \n",
       "3  Classify the following claim as SUPPORTS, REFU...   \n",
       "4  Classify the following claim as SUPPORTS, REFU...   \n",
       "\n",
       "                                  predicted_evidence  \\\n",
       "0                                                 []   \n",
       "1                                                 []   \n",
       "2                                                 []   \n",
       "3                                                 []   \n",
       "4  [[Ashley_Graham_-LRB-model-RRB-, 4], [Ashley_G...   \n",
       "\n",
       "                                       gold_evidence  max_iterations  \\\n",
       "0                                                 []               1   \n",
       "1                                                 []               1   \n",
       "2                          [[None, None, Aarhus, 0]]               2   \n",
       "3        [[None, None, Swordfish_-LRB-film-RRB-, 1]]               2   \n",
       "4  [[None, None, Ashley_Graham_-LRB-model-RRB-, 6...               2   \n",
       "\n",
       "   final_iteration  co_thresh  ro_thresh  \\\n",
       "0                1        0.5        0.1   \n",
       "1                1        0.5        0.1   \n",
       "2                2        0.5        0.1   \n",
       "3                2        0.5        0.1   \n",
       "4                1        0.5        0.1   \n",
       "\n",
       "                                      sentEx_prompts  \n",
       "0  [Retrieve sentences from the list that either ...  \n",
       "1  [Retrieve sentences from the list that either ...  \n",
       "2  [Retrieve sentences from the list that either ...  \n",
       "3  [Retrieve sentences from the list that either ...  \n",
       "4  [Retrieve sentences from the list that either ...  "
      ]
     },
     "execution_count": 143,
     "metadata": {},
     "output_type": "execute_result"
    }
   ],
   "source": [
    "report.head()"
   ]
  },
  {
   "cell_type": "code",
   "execution_count": null,
   "metadata": {
    "id": "S2s_kPExPntm"
   },
   "outputs": [],
   "source": [
    "report.to_csv('tabular_sets/report_sentEx_valid_n35-70_4-05_.csv', index=False)"
   ]
  },
  {
   "cell_type": "code",
   "execution_count": null,
   "metadata": {
    "cellView": "form",
    "colab": {
     "base_uri": "https://localhost:8080/",
     "height": 466
    },
    "executionInfo": {
     "elapsed": 189,
     "status": "ok",
     "timestamp": 1743893309260,
     "user": {
      "displayName": "Henry Zelenak",
      "userId": "01809909909045225068"
     },
     "user_tz": 240
    },
    "id": "NuWgFGxjJCX7",
    "outputId": "58de5b88-813a-4278-b337-1d9b0ecb0577"
   },
   "outputs": [
    {
     "name": "stderr",
     "output_type": "stream",
     "text": [
      "<ipython-input-123-febf6c683386>:7: FutureWarning: \n",
      "\n",
      "Passing `palette` without assigning `hue` is deprecated and will be removed in v0.14.0. Assign the `y` variable to `hue` and set `legend=False` for the same effect.\n",
      "\n",
      "  sns.violinplot(report, x='max_iterations', y='classification_result', inner='stick', palette='Dark2')\n"
     ]
    },
    {
     "data": {
      "image/png": "[encoded data removed]",
      "text/plain": [
       "<Figure size 1200x360 with 1 Axes>"
      ]
     },
     "metadata": {},
     "output_type": "display_data"
    }
   ],
   "source": [
    "# @title classification_result vs max_iterations\n",
    "\n",
    "from matplotlib import pyplot as plt\n",
    "import seaborn as sns\n",
    "figsize = (12, 1.2 * len(report['classification_result'].unique()))\n",
    "plt.figure(figsize=figsize)\n",
    "sns.violinplot(report, x='max_iterations', y='classification_result', inner='stick', palette='Dark2')\n",
    "sns.despine(top=True, right=True, bottom=True, left=True)"
   ]
  },
  {
   "cell_type": "code",
   "execution_count": null,
   "metadata": {
    "id": "Qzl7Unf1uTrR"
   },
   "outputs": [],
   "source": []
  }
 ],
 "metadata": {
  "colab": {
   "provenance": []
  },
  "kernelspec": {
   "display_name": "Python 3",
   "name": "python3"
  },
  "language_info": {
   "name": "python"
  }
 },
 "nbformat": 4,
 "nbformat_minor": 0
}
